{
  "cells": [
    {
      "cell_type": "markdown",
      "metadata": {
        "id": "ZEAUjjhOb136"
      },
      "source": [
        "### Run in colab\n",
        "<a href=\"https://colab.research.google.com/github/racousin/data_science_practice/blob/master/website/public/modules/data-science-practice/module9/exercise/module9_exercise2.ipynb\" target=\"_parent\"><img src=\"https://colab.research.google.com/assets/colab-badge.svg\" alt=\"Open In Colab\"/></a>"
      ]
    },
    {
      "cell_type": "code",
      "execution_count": 1,
      "metadata": {
        "id": "uVgWUZjpb137"
      },
      "outputs": [],
      "source": [
        "%%capture\n",
        "!pip install swig==4.2.1\n",
        "!pip install gymnasium==1.2.0"
      ]
    },
    {
      "cell_type": "code",
      "execution_count": 2,
      "metadata": {
        "id": "Oa03cAjLb138"
      },
      "outputs": [],
      "source": [
        "import warnings\n",
        "warnings.filterwarnings('ignore')\n",
        "import numpy as np\n",
        "import gymnasium as gym\n",
        "import matplotlib.pyplot as plt\n",
        "import random, json"
      ]
    },
    {
      "cell_type": "code",
      "execution_count": null,
      "metadata": {
        "colab": {
          "base_uri": "https://localhost:8080/"
        },
        "id": "G2DhcZCeySQN",
        "outputId": "0fc21135-781d-443d-ba73-a9fad6d82cbf"
      },
      "outputs": [],
      "source": [
        "env = gym.make(\"FrozenLake-v1\", map_name=\"8x8\")\n",
        "\n",
        "print(\"Observation space nb :\", env.observation_space)\n",
        "print(\"Action space nb :\", env.action_space)\n",
        "\n",
        "env.close()\n"
      ]
    },
    {
      "cell_type": "markdown",
      "metadata": {
        "id": "JJZwAAf2b139"
      },
      "source": [
        "# module9_exercise2 : ML - Arena <a href=\"https://ml-arena.com/viewcompetition/5\" target=\"_blank\"> FrozenLake Competition</a>"
      ]
    },
    {
      "cell_type": "markdown",
      "metadata": {
        "id": "WYQQPZhpb139"
      },
      "source": [
        "### Objective\n",
        "Get at list an agent running on ML-Arena <a href=\"https://ml-arena.com/viewcompetition/5\" target=\"_blank\"> FrozenLake Competition</a> with mean reward upper than 0.35 (ie 35%)\n"
      ]
    },
    {
      "cell_type": "markdown",
      "metadata": {
        "id": "J53AuJ1utG5U"
      },
      "source": [
        "You should submit an agent file named `agent.py` with a class `Agent` that includes at least the following attributes:"
      ]
    },
    {
      "cell_type": "code",
      "execution_count": null,
      "metadata": {
        "id": "YvWngASitG5V"
      },
      "outputs": [],
      "source": [
        "class Agent:\n",
        "    def __init__(self, env):\n",
        "        self.env = env\n",
        "\n",
        "    def choose_action(self, observation, reward=0.0, terminated=False, truncated=False, info=None):\n",
        "        action = self.env.action_space.sample()\n",
        "        return action"
      ]
    },
    {
      "cell_type": "markdown",
      "metadata": {
        "id": "ga3ZojLTtG5V"
      },
      "source": [
        "### Description\n",
        "\n",
        "The game starts with the player at location [0,0] of the frozen lake grid world with the goal located at far extent of the world [7,7].\n",
        "\n",
        "Holes in the ice are distributed in set locations.\n",
        "\n",
        "The player makes moves until they reach the goal or fall in a hole.\n",
        "\n",
        "Each run will consist of 10 attempts to cross the ice. The reward will be the total amount accumulated during those trips. For example, if your agent reaches the goal 3 times out of 10, its reward will be 3.\n",
        "\n",
        "The environment is based on :"
      ]
    },
    {
      "cell_type": "code",
      "execution_count": 5,
      "metadata": {
        "id": "9kzeWT6YtG5V"
      },
      "outputs": [],
      "source": [
        "env = gym.make('FrozenLake-v1', map_name=\"8x8\")"
      ]
    },
    {
      "cell_type": "code",
      "execution_count": null,
      "metadata": {
        "colab": {
          "base_uri": "https://localhost:8080/"
        },
        "id": "-N9WCp1htG5W",
        "outputId": "8bfd3b9b-26e9-47ab-e0b5-2d01edb35283"
      },
      "outputs": [],
      "source": [
        "\n",
        "\n",
        "def entrainer_agent(nb_episodes=50000, alpha=0.1, gamma=0.99, eps_debut=1.0, eps_fin=0.01, pas_reduction=200000):\n",
        "    env = gym.make(\"FrozenLake-v1\", map_name=\"8x8\")\n",
        "    nb_etats = env.observation_space.n\n",
        "    nb_actions = env.action_space.n\n",
        "    \n",
        "    Q = np.zeros((nb_etats, nb_actions))\n",
        "    epsilon = eps_debut\n",
        "\n",
        "    for episode in range(nb_episodes):\n",
        "        etat, _ = env.reset(seed=episode)\n",
        "        termine = faux = False \n",
        "        \n",
        "        while not (termine or faux):\n",
        "\n",
        "            if random.random() < epsilon:\n",
        "                action = env.action_space.sample()\n",
        "            else:\n",
        "                meilleures = np.flatnonzero(Q[etat] == Q[etat].max())\n",
        "                action = int(random.choice(meilleures))\n",
        "\n",
        "            nouvel_etat, recompense, termine, faux, _ = env.step(action)\n",
        "\n",
        "            meilleure_suite = Q[nouvel_etat].max()\n",
        "            cible = recompense + (0 if (termine or faux) else gamma * meilleure_suite)\n",
        "\n",
        "            Q[etat, action] += alpha * (cible - Q[etat, action])\n",
        "            etat = nouvel_etat\n",
        "\n",
        "        if episode < pas_reduction:\n",
        "            epsilon = eps_debut - (eps_debut - eps_fin) * (episode / pas_reduction)\n",
        "        else:\n",
        "            epsilon = eps_fin\n",
        "\n",
        "    env.close()\n",
        "    return Q\n",
        "\n",
        "\n",
        "def tester_agent(Q, nb_runs=200, essais_par_run=10):\n",
        "    env = gym.make(\"FrozenLake-v1\", map_name=\"8x8\")\n",
        "    total_runs = []\n",
        "    for r in range(nb_runs):\n",
        "        total = 0\n",
        "        for _ in range(essais_par_run):\n",
        "            etat, _ = env.reset()\n",
        "            termine = faux = False\n",
        "            while not (termine or faux):\n",
        "                meilleures = np.flatnonzero(Q[etat] == Q[etat].max())\n",
        "                action = int(random.choice(meilleures))\n",
        "                etat, recompense, termine, faux, _ = env.step(action)\n",
        "                total += recompense\n",
        "        total_runs.append(total)\n",
        "    env.close()\n",
        "\n",
        "    moyenne_run = np.mean(total_runs)\n",
        "    taux_succes = moyenne_run / essais_par_run\n",
        "    return moyenne_run, taux_succes\n",
        "\n",
        "\n",
        "Q = entrainer_agent()\n",
        "moyenne, succes = tester_agent(Q)\n",
        "print(\"Reward moyen :\", round(moyenne, 2))\n",
        "print(\"Succès moyen  :\", round(succes, 3), \"≈\", round(100*succes,1), \"%\")\n",
        "\n"
      ]
    },
    {
      "cell_type": "code",
      "execution_count": null,
      "metadata": {
        "id": "XfAakiS_tG5W"
      },
      "outputs": [],
      "source": [
        "q_list = np.asarray(Q, dtype=float).round(6).tolist()\n",
        "\n",
        "agent_code = f\"\"\"\n",
        "import random\n",
        "\n",
        "class Agent:\n",
        "    #init of agent\n",
        "    def __init__(self, env):\n",
        "        self.env = env\n",
        "        self.Q = {json.dumps(q_list)}\n",
        "        self.len_s = len(self.Q)\n",
        "        self.len_a = len(self.Q[0]) if self.len_s>0 else env.action_space.n\n",
        "\n",
        "    def choose_action(self, observation, reward=0.0, terminated=False, truncated=False, info=None):\n",
        "        s = int(observation)\n",
        "        if s < 0 or s >= self.len_s:\n",
        "            return self.env.action_space.sample()\n",
        "        row = self.Q[s]\n",
        "        m = max(row)\n",
        "        bestactions = [a for a, q in enumerate(row) if q == m]\n",
        "        return random.choice(bestactions)\n",
        "\n",
        "\"\"\"\n",
        "with open(\"agent.py\", \"w\") as f:\n",
        "    f.write(agent_code)\n",
        "\n",
        "\n"
      ]
    },
    {
      "cell_type": "code",
      "execution_count": null,
      "metadata": {
        "colab": {
          "base_uri": "https://localhost:8080/",
          "height": 17
        },
        "id": "uDOgPbaM4mqi",
        "outputId": "a0ce4062-27ea-4455-ad40-80c9cfb93b42"
      },
      "outputs": [
        {
          "data": {
            "application/javascript": "\n    async function download(id, filename, size) {\n      if (!google.colab.kernel.accessAllowed) {\n        return;\n      }\n      const div = document.createElement('div');\n      const label = document.createElement('label');\n      label.textContent = `Downloading \"${filename}\": `;\n      div.appendChild(label);\n      const progress = document.createElement('progress');\n      progress.max = size;\n      div.appendChild(progress);\n      document.body.appendChild(div);\n\n      const buffers = [];\n      let downloaded = 0;\n\n      const channel = await google.colab.kernel.comms.open(id);\n      // Send a message to notify the kernel that we're ready.\n      channel.send({})\n\n      for await (const message of channel.messages) {\n        // Send a message to notify the kernel that we're ready.\n        channel.send({})\n        if (message.buffers) {\n          for (const buffer of message.buffers) {\n            buffers.push(buffer);\n            downloaded += buffer.byteLength;\n            progress.value = downloaded;\n          }\n        }\n      }\n      const blob = new Blob(buffers, {type: 'application/binary'});\n      const a = document.createElement('a');\n      a.href = window.URL.createObjectURL(blob);\n      a.download = filename;\n      div.appendChild(a);\n      a.click();\n      div.remove();\n    }\n  ",
            "text/plain": [
              "<IPython.core.display.Javascript object>"
            ]
          },
          "metadata": {},
          "output_type": "display_data"
        },
        {
          "data": {
            "application/javascript": "download(\"download_6e76c371-5404-40cd-95c1-105f43f6242c\", \"agent.py\", 3544)",
            "text/plain": [
              "<IPython.core.display.Javascript object>"
            ]
          },
          "metadata": {},
          "output_type": "display_data"
        }
      ],
      "source": [
        "from google.colab import files\n",
        "files.download(\"agent.py\")"
      ]
    },
    {
      "cell_type": "markdown",
      "metadata": {
        "id": "1e7RhtZNtG5X"
      },
      "source": [
        "### Before submit\n",
        "Test that your agent has the right attributes"
      ]
    },
    {
      "cell_type": "code",
      "execution_count": null,
      "metadata": {
        "colab": {
          "base_uri": "https://localhost:8080/"
        },
        "id": "P7HRFLEKtG5X",
        "outputId": "ce5625f4-4560-4700-f4b2-cb6f78a5a904"
      },
      "outputs": [],
      "source": [
        "\n",
        "env = gym.make('FrozenLake-v1', map_name=\"8x8\")\n",
        "from agent import Agent\n",
        "\n",
        "\n",
        "agent = Agent(env)\n",
        "\n",
        "observation, _ = env.reset()\n",
        "reward, termine, faux, info = None, False, False, None\n",
        "rewards = []\n",
        "\n",
        "while not (termine or faux):\n",
        "    action = agent.choose_action(\n",
        "        observation,\n",
        "        reward=reward,\n",
        "        terminated=termine,\n",
        "        truncated=faux,\n",
        "        info=info\n",
        "    )\n",
        "    observation, reward, termine, faux, info = env.step(action)\n",
        "    rewards.append(reward)\n",
        "\n",
        "print(f\"Reward avec un seul essai : {sum(rewards)}\")\n"
      ]
    }
  ],
  "metadata": {
    "colab": {
      "provenance": []
    },
    "kernelspec": {
      "display_name": "Python 3 (ipykernel)",
      "language": "python",
      "name": "python3"
    },
    "language_info": {
      "codemirror_mode": {
        "name": "ipython",
        "version": 3
      },
      "file_extension": ".py",
      "mimetype": "text/x-python",
      "name": "python",
      "nbconvert_exporter": "python",
      "pygments_lexer": "ipython3",
      "version": "3.12.3"
    }
  },
  "nbformat": 4,
  "nbformat_minor": 0
}
