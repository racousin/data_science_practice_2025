{
  "cells": [
    {
      "cell_type": "markdown",
      "metadata": {
        "id": "ZEAUjjhOb136"
      },
      "source": [
        "### Run in collab\n",
        "<a href=\"https://colab.research.google.com/github/racousin/data_science_practice/blob/master/website/public/modules/data-science-practice/module9/exercise/module9_exercise2.ipynb\" target=\"_parent\"><img src=\"https://colab.research.google.com/assets/colab-badge.svg\" alt=\"Open In Colab\"/></a>"
      ]
    },
    {
      "cell_type": "code",
      "execution_count": 1,
      "metadata": {
        "id": "uVgWUZjpb137"
      },
      "outputs": [],
      "source": [
        "%%capture\n",
        "!pip install swig==4.2.1\n",
        "!pip install gymnasium==1.2.0"
      ]
    },
    {
      "cell_type": "code",
      "execution_count": 2,
      "metadata": {
        "id": "Oa03cAjLb138"
      },
      "outputs": [],
      "source": [
        "import warnings\n",
        "warnings.filterwarnings('ignore')\n",
        "import numpy as np\n",
        "import gymnasium as gym\n",
        "import matplotlib.pyplot as plt\n",
        "import random, json"
      ]
    },
    {
      "cell_type": "code",
      "source": [
        "# Petit test pour voir combien d'actions et d'états il y a dans FrozenLake 8x8\n",
        "\n",
        "env = gym.make(\"FrozenLake-v1\", map_name=\"8x8\")\n",
        "\n",
        "print(\"nb de cases :\", env.observation_space)\n",
        "print(\"nb de mouvements:\", env.action_space)\n",
        "\n",
        "env.close()\n"
      ],
      "metadata": {
        "id": "G2DhcZCeySQN",
        "outputId": "0fc21135-781d-443d-ba73-a9fad6d82cbf",
        "colab": {
          "base_uri": "https://localhost:8080/"
        }
      },
      "execution_count": 3,
      "outputs": [
        {
          "output_type": "stream",
          "name": "stdout",
          "text": [
            "nb de cases : Discrete(64)\n",
            "nb de mouvements: Discrete(4)\n"
          ]
        }
      ]
    },
    {
      "cell_type": "markdown",
      "metadata": {
        "id": "JJZwAAf2b139"
      },
      "source": [
        "# module9_exercise2 : ML - Arena <a href=\"https://ml-arena.com/viewcompetition/5\" target=\"_blank\"> FrozenLake Competition</a>"
      ]
    },
    {
      "cell_type": "markdown",
      "metadata": {
        "id": "WYQQPZhpb139"
      },
      "source": [
        "### Objective\n",
        "Get at list an agent running on ML-Arena <a href=\"https://ml-arena.com/viewcompetition/5\" target=\"_blank\"> FrozenLake Competition</a> with mean reward upper than 0.35 (ie 35%)\n"
      ]
    },
    {
      "cell_type": "markdown",
      "metadata": {
        "id": "J53AuJ1utG5U"
      },
      "source": [
        "You should submit an agent file named `agent.py` with a class `Agent` that includes at least the following attributes:"
      ]
    },
    {
      "cell_type": "code",
      "execution_count": 4,
      "metadata": {
        "id": "YvWngASitG5V"
      },
      "outputs": [],
      "source": [
        "class Agent:\n",
        "    def __init__(self, env):\n",
        "        self.env = env\n",
        "\n",
        "    def choose_action(self, observation, reward=0.0, terminated=False, truncated=False, info=None):\n",
        "        action = self.env.action_space.sample() # your logic here\n",
        "        return action"
      ]
    },
    {
      "cell_type": "markdown",
      "metadata": {
        "id": "ga3ZojLTtG5V"
      },
      "source": [
        "### Description\n",
        "\n",
        "The game starts with the player at location [0,0] of the frozen lake grid world with the goal located at far extent of the world [7,7].\n",
        "\n",
        "Holes in the ice are distributed in set locations.\n",
        "\n",
        "The player makes moves until they reach the goal or fall in a hole.\n",
        "\n",
        "Each run will consist of 10 attempts to cross the ice. The reward will be the total amount accumulated during those trips. For example, if your agent reaches the goal 3 times out of 10, its reward will be 3.\n",
        "\n",
        "The environment is based on :"
      ]
    },
    {
      "cell_type": "code",
      "execution_count": 5,
      "metadata": {
        "id": "9kzeWT6YtG5V"
      },
      "outputs": [],
      "source": [
        "env = gym.make('FrozenLake-v1', map_name=\"8x8\")"
      ]
    },
    {
      "cell_type": "code",
      "execution_count": 6,
      "metadata": {
        "id": "-N9WCp1htG5W",
        "outputId": "8bfd3b9b-26e9-47ab-e0b5-2d01edb35283",
        "colab": {
          "base_uri": "https://localhost:8080/"
        }
      },
      "outputs": [
        {
          "output_type": "stream",
          "name": "stdout",
          "text": [
            "reward moyenne : 5.38\n",
            "succès moyen  : 0.538 ≈ 53.8 %\n"
          ]
        }
      ],
      "source": [
        "\n",
        "\n",
        "def entrainer_agent(nb_episodes=50000, alpha=0.1, gamma=0.99, eps_debut=1.0, eps_fin=0.01, pas_reduction=200000):\n",
        "    #je prends 1 pour l'epsilon du début pour que l'agent explore tout et à la fin je prends 0.01 pour qu'il exploite ce qu'il a appris\n",
        "    #je prends ce nombre d'épisodes pour bcp apprendre ?\n",
        "    #je prends un petit alpha pour que la vitesse d'apprentissage soit fiable\n",
        "    #je prends gamma=0.99 pour que l'agent anticipe\n",
        "    #et les pas_reduction c le nb d'episodes pendant lesquels on fait baisser epsilon\n",
        "    env = gym.make(\"FrozenLake-v1\", map_name=\"8x8\")   # je créée l'environement du lac gelé\n",
        "    nb_etats = env.observation_space.n                # c'était déjà marqué, mais comme on a 8x8 j'ai 64 cases\n",
        "    nb_actions = env.action_space.n                   # j'ai fait un bloc après le bloc des import pour vérifier et on peut aller dans 4 directions : à droite, à gauche, en haut, en bas\n",
        "\n",
        "    #on remplie Q de 0 au début pout initialiser\n",
        "    Q = np.zeros((nb_etats, nb_actions))\n",
        "    epsilon = eps_debut  #pcq du coup on explore au début donc tout au hasard\n",
        "\n",
        "    # je joue plein de parties\n",
        "    for episode in range(nb_episodes):\n",
        "        etat, _ = env.reset(seed=episode)  # on démarre au début de la grille\n",
        "        termine = faux = False  #je démarre au départ du lac, pour l'instant la partie n'est pas finie\n",
        "\n",
        "        #je continue tant que je suis pas tombée dans un trou ou tant que j'ai pas fini la partie\n",
        "        while not (termine or faux):\n",
        "            #là je vais choisir : soit je prends le meilleur score, soit je décide au hasard\n",
        "            if random.random() < epsilon:\n",
        "                action = env.action_space.sample()   # au hasard\n",
        "            else:\n",
        "                meilleures = np.flatnonzero(Q[etat] == Q[etat].max())  # on prend l'action qui a le meilleur score\n",
        "                action = int(random.choice(meilleures))  # si ça se trouve j'ai plusieurs ex aequo donc je choisis au hasard, c pg c tous le meme score\n",
        "\n",
        "            nouvel_etat, recompense, termine, faux, _ = env.step(action)\n",
        "\n",
        "            #la je mets à jour la Q table grace à ce que j'ai fait avant\n",
        "            meilleure_suite = Q[nouvel_etat].max() #si je continue depuis ça, quelle est la meilleure recompense possible ?\n",
        "            cible = recompense + (0 if (termine or faux) else gamma * meilleure_suite) #donc la c la recompense d'ajd + ce que je pourrais encore gagner demain\n",
        "            # mise à jour avec alpha (mélange entre ancienne valeur et nouvelle info)\n",
        "            Q[etat, action] += alpha * (cible - Q[etat, action]) #j'ignore pas complètement l'ancienne valeur, peut-être que si non je serai trop influencée par un seul essai\n",
        "\n",
        "            etat = nouvel_etat  #j'avance dans la partie\n",
        "\n",
        "        # au fur et à mesure, je réduis epsilon, pour ne plus choisir 100% au hasard mais explorer ce que j'ai déjà appris\n",
        "        if episode < pas_reduction:\n",
        "            epsilon = eps_debut - (eps_debut - eps_fin) * (episode / pas_reduction)\n",
        "        else:\n",
        "            epsilon = eps_fin\n",
        "\n",
        "    env.close()\n",
        "    return Q\n",
        "\n",
        "\n",
        "def tester_agent(Q, nb_runs=200, essais_par_run=10):\n",
        "   #là je teste juste pour voir si ça marche bien\n",
        "    env = gym.make(\"FrozenLake-v1\", map_name=\"8x8\")\n",
        "    total_runs = []\n",
        "    for r in range(nb_runs):\n",
        "        total = 0\n",
        "        for _ in range(essais_par_run): #à chaque essai je remets le joueur en haut à gauche\n",
        "            etat, _ = env.reset()\n",
        "            termine = faux = False\n",
        "            while not (termine or faux):   #je joue la partie jusqu'à la fin\n",
        "                # à chaque état, je choisis l'action qui a le meilleur score dans Q\n",
        "                meilleures = np.flatnonzero(Q[etat] == Q[etat].max())\n",
        "                action = int(random.choice(meilleures))\n",
        "                etat, recompense, termine, faux, _ = env.step(action)\n",
        "                total += recompense\n",
        "        total_runs.append(total)\n",
        "    env.close()\n",
        "\n",
        "    moyenne_run = np.mean(total_runs)                  # reward moyen\n",
        "    taux_succes = moyenne_run / essais_par_run         # taux de succès en pourcentage\n",
        "    return moyenne_run, taux_succes\n",
        "\n",
        "\n",
        "#je teste et on va faire la moyenne\n",
        "Q = entrainer_agent()\n",
        "moyenne, succes = tester_agent(Q)\n",
        "print(\"reward moyenne :\", round(moyenne, 2))\n",
        "print(\"succès moyen  :\", round(succes, 3), \"≈\", round(100*succes,1), \"%\")\n",
        "\n"
      ]
    },
    {
      "cell_type": "code",
      "execution_count": 8,
      "metadata": {
        "id": "XfAakiS_tG5W"
      },
      "outputs": [],
      "source": [
        "#donc la je mets la Q table dans mon agent.py\n",
        "q_list = np.asarray(Q, dtype=float).round(6).tolist()\n",
        "\n",
        "agent_code = f\"\"\"\n",
        "import random\n",
        "\n",
        "class Agent:\n",
        "    def __init__(self, env):\n",
        "        # je garde l'environnement\n",
        "        self.env = env\n",
        "        # Ici on colle la Q-table apprise hors ligne\n",
        "        self.Q = {json.dumps(q_list)}\n",
        "        self.nS = len(self.Q)                   # 64 états pour 64 cases\n",
        "        self.nA = len(self.Q[0]) if self.nS>0 else env.action_space.n  # 4 actions : en haut, en bas, à droite, à gauche\n",
        "\n",
        "    def choose_action(self, observation, reward=0.0, terminated=False, truncated=False, info=None):\n",
        "        # on observe la case\n",
        "        s = int(observation)\n",
        "\n",
        "        #si y a un pb je mets une action au hasard\n",
        "        if s < 0 or s >= self.nS:\n",
        "            return self.env.action_space.sample()\n",
        "\n",
        "        # je récupère la ligne de la Q-table pour cet état\n",
        "        row = self.Q[s]\n",
        "        # et je cherche la meilleure valeur Q dans cette ligne\n",
        "        m = max(row)\n",
        "        # je prends toutes les actions qui atteignent ce max\n",
        "        meilleures = [a for a, q in enumerate(row) if q == m]\n",
        "        # je choisis au hasard parmi les meilleures si plusieurs ont le meme max\n",
        "        return random.choice(meilleures)\n",
        "\"\"\"\n",
        "\n",
        "#et la je dois mettre agent.py sur ml arena\n",
        "with open(\"agent.py\", \"w\") as f:\n",
        "    f.write(agent_code)\n",
        "\n",
        "\n"
      ]
    },
    {
      "cell_type": "code",
      "source": [
        "from google.colab import files\n",
        "files.download(\"agent.py\")\n"
      ],
      "metadata": {
        "id": "uDOgPbaM4mqi",
        "outputId": "a0ce4062-27ea-4455-ad40-80c9cfb93b42",
        "colab": {
          "base_uri": "https://localhost:8080/",
          "height": 17
        }
      },
      "execution_count": 9,
      "outputs": [
        {
          "output_type": "display_data",
          "data": {
            "text/plain": [
              "<IPython.core.display.Javascript object>"
            ],
            "application/javascript": [
              "\n",
              "    async function download(id, filename, size) {\n",
              "      if (!google.colab.kernel.accessAllowed) {\n",
              "        return;\n",
              "      }\n",
              "      const div = document.createElement('div');\n",
              "      const label = document.createElement('label');\n",
              "      label.textContent = `Downloading \"${filename}\": `;\n",
              "      div.appendChild(label);\n",
              "      const progress = document.createElement('progress');\n",
              "      progress.max = size;\n",
              "      div.appendChild(progress);\n",
              "      document.body.appendChild(div);\n",
              "\n",
              "      const buffers = [];\n",
              "      let downloaded = 0;\n",
              "\n",
              "      const channel = await google.colab.kernel.comms.open(id);\n",
              "      // Send a message to notify the kernel that we're ready.\n",
              "      channel.send({})\n",
              "\n",
              "      for await (const message of channel.messages) {\n",
              "        // Send a message to notify the kernel that we're ready.\n",
              "        channel.send({})\n",
              "        if (message.buffers) {\n",
              "          for (const buffer of message.buffers) {\n",
              "            buffers.push(buffer);\n",
              "            downloaded += buffer.byteLength;\n",
              "            progress.value = downloaded;\n",
              "          }\n",
              "        }\n",
              "      }\n",
              "      const blob = new Blob(buffers, {type: 'application/binary'});\n",
              "      const a = document.createElement('a');\n",
              "      a.href = window.URL.createObjectURL(blob);\n",
              "      a.download = filename;\n",
              "      div.appendChild(a);\n",
              "      a.click();\n",
              "      div.remove();\n",
              "    }\n",
              "  "
            ]
          },
          "metadata": {}
        },
        {
          "output_type": "display_data",
          "data": {
            "text/plain": [
              "<IPython.core.display.Javascript object>"
            ],
            "application/javascript": [
              "download(\"download_6e76c371-5404-40cd-95c1-105f43f6242c\", \"agent.py\", 3544)"
            ]
          },
          "metadata": {}
        }
      ]
    },
    {
      "cell_type": "markdown",
      "metadata": {
        "id": "1e7RhtZNtG5X"
      },
      "source": [
        "### Before submit\n",
        "Test that your agent has the right attributes"
      ]
    },
    {
      "cell_type": "code",
      "execution_count": 10,
      "metadata": {
        "id": "P7HRFLEKtG5X",
        "outputId": "ce5625f4-4560-4700-f4b2-cb6f78a5a904",
        "colab": {
          "base_uri": "https://localhost:8080/"
        }
      },
      "outputs": [
        {
          "output_type": "stream",
          "name": "stdout",
          "text": [
            "reward sur un seul essai : 1.0\n"
          ]
        }
      ],
      "source": [
        "#je veux vérifier que agent.py marche bien\n",
        "env = gym.make('FrozenLake-v1', map_name=\"8x8\")\n",
        "\n",
        "#j'importe ma classe d'agent\n",
        "from agent import Agent\n",
        "\n",
        "\n",
        "agent = Agent(env)\n",
        "\n",
        "# je vérifie si l'agent joue bien avec une partie\n",
        "observation, _ = env.reset()  #ça c état de départ\n",
        "reward, termine, faux, info = None, False, False, None\n",
        "rewards = []\n",
        "\n",
        "while not (termine or faux):  # pareil tant que la partie n’est pas finie\n",
        "    #en se basant sur la q table l'agent choisit une action\n",
        "    action = agent.choose_action(\n",
        "        observation,\n",
        "        reward=reward,\n",
        "        terminated=termine,\n",
        "        truncated=faux,\n",
        "        info=info\n",
        "    )\n",
        "    # je joue cette action dans l’environnement\n",
        "    observation, reward, termine, faux, info = env.step(action)\n",
        "    rewards.append(reward)\n",
        "\n",
        "#pour afficher le score total\n",
        "print(f\"reward sur un seul essai : {sum(rewards)}\")\n",
        "\n",
        "#OK CA MARCHE PCQ JAI UN REWARD DE 1.0 SUR UN SEUL ESSAI YOUPIIIIIII\n"
      ]
    }
  ],
  "metadata": {
    "colab": {
      "provenance": []
    },
    "kernelspec": {
      "display_name": "Python 3 (ipykernel)",
      "language": "python",
      "name": "python3"
    },
    "language_info": {
      "codemirror_mode": {
        "name": "ipython",
        "version": 3
      },
      "file_extension": ".py",
      "mimetype": "text/x-python",
      "name": "python",
      "nbconvert_exporter": "python",
      "pygments_lexer": "ipython3",
      "version": "3.12.3"
    }
  },
  "nbformat": 4,
  "nbformat_minor": 0
}