{
  "cells": [
    {
      "cell_type": "code",
      "execution_count": 12,
      "id": "32854d75-093f-46c0-8b84-1fe9c6c1bfa5",
      "metadata": {
        "id": "32854d75-093f-46c0-8b84-1fe9c6c1bfa5"
      },
      "outputs": [],
      "source": [
        "import pandas as pd\n",
        "import requests\n",
        "import numpy as np\n",
        "import matplotlib.pyplot as plt\n",
        "import seaborn as sns\n",
        "from sklearn.linear_model import LinearRegression\n",
        "from sklearn.ensemble import RandomForestRegressor\n",
        "from sklearn.metrics import mean_absolute_error, mean_squared_error\n",
        "from sklearn.model_selection import train_test_split\n",
        "from scipy import stats"
      ]
    },
    {
      "cell_type": "markdown",
      "id": "623f9a8c-e5e1-46a7-9dd1-1ef0e9cec868",
      "metadata": {
        "id": "623f9a8c-e5e1-46a7-9dd1-1ef0e9cec868"
      },
      "source": [
        "### Data Collection"
      ]
    },
    {
      "cell_type": "code",
      "execution_count": 13,
      "id": "cac2bf4b-cce6-4f01-a906-21c6b83ee515",
      "metadata": {
        "colab": {
          "base_uri": "https://localhost:8080/"
        },
        "id": "cac2bf4b-cce6-4f01-a906-21c6b83ee515",
        "outputId": "e71a43ec-8689-43ef-9563-d4eb149c1f37"
      },
      "outputs": [
        {
          "output_type": "stream",
          "name": "stdout",
          "text": [
            "Downloaded module3_exercise_train.csv from https://www.raphaelcousin.com/modules/data-science-practice/module3/exercise/module3_exercise_train.csv\n",
            "Downloaded module3_exercise_test.csv from https://www.raphaelcousin.com/modules/data-science-practice/module3/exercise/module3_exercise_test.csv\n"
          ]
        }
      ],
      "source": [
        "# URLs of the files\n",
        "train_data_url = 'https://www.raphaelcousin.com/modules/data-science-practice/module3/exercise/module3_exercise_train.csv'\n",
        "test_data_url = 'https://www.raphaelcousin.com/modules/data-science-practice/module3/exercise/module3_exercise_test.csv'\n",
        "\n",
        "# Function to download a file\n",
        "def download_file(url, file_name):\n",
        "    response = requests.get(url)\n",
        "    response.raise_for_status()  # Ensure we notice bad responses\n",
        "    with open(file_name, 'wb') as file:\n",
        "        file.write(response.content)\n",
        "    print(f'Downloaded {file_name} from {url}')\n",
        "\n",
        "# Downloading the files\n",
        "download_file(train_data_url, 'module3_exercise_train.csv')\n",
        "download_file(test_data_url, 'module3_exercise_test.csv')"
      ]
    },
    {
      "cell_type": "code",
      "execution_count": 14,
      "id": "923f12cb-09c7-4952-b9d3-faf1ff9ada52",
      "metadata": {
        "colab": {
          "base_uri": "https://localhost:8080/"
        },
        "id": "923f12cb-09c7-4952-b9d3-faf1ff9ada52",
        "outputId": "a8416329-5d4c-4364-a762-9105d7172c9b"
      },
      "outputs": [
        {
          "output_type": "stream",
          "name": "stdout",
          "text": [
            "训练数据形状: (1168, 17)\n",
            "测试数据形状: (292, 16)\n",
            "\n",
            "训练数据列名:\n",
            "['BedroomAbvGr', 'KitchenAbvGr', 'TotRmsAbvGrd', 'Fireplaces', 'GarageYrBlt', 'GarageCars', 'GarageArea', 'WoodDeckSF', 'OpenPorchSF', 'EnclosedPorch', '3SsnPorch', 'ScreenPorch', 'PoolArea', 'MiscVal', 'MoSold', 'YrSold', 'SalePrice']\n"
          ]
        }
      ],
      "source": [
        "# Loading data\n",
        "df_train =  pd.read_csv(\"module3_exercise_train.csv\", sep=\",\", index_col='id')\n",
        "X_test = pd.read_csv(\"module3_exercise_test.csv\", sep=\",\", index_col='id')\n",
        "\n",
        "print(\"训练数据形状:\", df_train.shape)\n",
        "print(\"测试数据形状:\", X_test.shape)\n",
        "print(\"\\n训练数据列名:\")\n",
        "print(df_train.columns.tolist())"
      ]
    },
    {
      "cell_type": "markdown",
      "id": "24460d16-e65e-4277-ae63-3c2ec1343f9e",
      "metadata": {
        "id": "24460d16-e65e-4277-ae63-3c2ec1343f9e"
      },
      "source": [
        "### Data Preprocessing"
      ]
    },
    {
      "cell_type": "code",
      "execution_count": 15,
      "id": "0a6af522-206c-4778-abea-38b612bf5190",
      "metadata": {
        "colab": {
          "base_uri": "https://localhost:8080/"
        },
        "id": "0a6af522-206c-4778-abea-38b612bf5190",
        "outputId": "0ed93ca5-2fcf-4b8d-e305-40f47c90e40f"
      },
      "outputs": [
        {
          "output_type": "stream",
          "name": "stdout",
          "text": [
            "\n",
            "缺失值统计:\n",
            "BedroomAbvGr     0\n",
            "KitchenAbvGr     0\n",
            "TotRmsAbvGrd     1\n",
            "Fireplaces       0\n",
            "GarageYrBlt      0\n",
            "GarageCars       1\n",
            "GarageArea       0\n",
            "WoodDeckSF       0\n",
            "OpenPorchSF      0\n",
            "EnclosedPorch    0\n",
            "3SsnPorch        0\n",
            "ScreenPorch      0\n",
            "PoolArea         0\n",
            "MiscVal          0\n",
            "MoSold           0\n",
            "YrSold           1\n",
            "SalePrice        0\n",
            "dtype: int64\n"
          ]
        }
      ],
      "source": [
        "# 检查缺失值\n",
        "print(\"\\n缺失值统计:\")\n",
        "print(df_train.isnull().sum())\n",
        "\n",
        "# Locating target_column\n",
        "target_column = 'SalePrice'\n"
      ]
    },
    {
      "cell_type": "code",
      "source": [
        "# Value conversion (from string to float)\n",
        "def convert_garage_cars(value):\n",
        "    \"\"\"将GarageCars转换为数值\"\"\"\n",
        "    if pd.isna(value):\n",
        "        return 0.0\n",
        "\n",
        "    # 如果已经是数值，直接返回\n",
        "    if isinstance(value, (int, float)):\n",
        "        return float(value)\n",
        "\n",
        "    # 处理字符串类型的数值\n",
        "    if isinstance(value, str):\n",
        "        # 移除可能的空格和特殊字符\n",
        "        value = value.strip()\n",
        "        # 尝试转换为数值\n",
        "        try:\n",
        "            return float(value)\n",
        "        except ValueError:\n",
        "            # 如果是文字描述，进行映射\n",
        "            mapping = {\n",
        "                'none': 0, 'zero': 0, 'no': 0, 'null': 0,\n",
        "                'one': 1, 'single': 1,\n",
        "                'two': 2, 'double': 2,\n",
        "                'three': 3, 'triple': 3,\n",
        "                'four': 4, 'quad': 4,\n",
        "                'five': 5, 'quint': 5\n",
        "            }\n",
        "            return mapping.get(value.lower(), 0.0)\n",
        "\n",
        "    return 0.0\n",
        "\n",
        "# 检查并转换GarageCars列\n",
        "if 'GarageCars' in df_train.columns:\n",
        "    print(\"\\n=== GarageCars列转换 ===\")\n",
        "    print(\"转换前的数据类型:\", df_train['GarageCars'].dtype)\n",
        "    print(\"转换前的唯一值:\", df_train['GarageCars'].unique())\n",
        "\n",
        "    # 应用转换\n",
        "    df_train['GarageCars'] = df_train['GarageCars'].apply(convert_garage_cars)\n",
        "\n",
        "    print(\"转换后的数据类型:\", df_train['GarageCars'].dtype)\n",
        "    print(\"转换后的唯一值:\", df_train['GarageCars'].unique())\n",
        "    print(\"转换后的描述性统计:\")\n",
        "    print(df_train['GarageCars'].describe())\n",
        "\n",
        "# 对测试集也进行同样的转换\n",
        "if 'GarageCars' in X_test.columns:\n",
        "    X_test_processed = X_test.copy()\n",
        "    X_test_processed['GarageCars'] = X_test_processed['GarageCars'].apply(convert_garage_cars)\n",
        "else:\n",
        "    X_test_processed = X_test.copy()"
      ],
      "metadata": {
        "colab": {
          "base_uri": "https://localhost:8080/"
        },
        "id": "lIWZE0QvVZ4u",
        "outputId": "453f82e6-8a8e-4f69-ec0c-69c5a481537b"
      },
      "id": "lIWZE0QvVZ4u",
      "execution_count": 16,
      "outputs": [
        {
          "output_type": "stream",
          "name": "stdout",
          "text": [
            "\n",
            "=== GarageCars列转换 ===\n",
            "转换前的数据类型: object\n",
            "转换前的唯一值: ['two' 'one' 'three' 'zero' nan 'four']\n",
            "转换后的数据类型: float64\n",
            "转换后的唯一值: [2. 1. 3. 0. 4.]\n",
            "转换后的描述性统计:\n",
            "count    1168.000000\n",
            "mean        1.755137\n",
            "std         0.740532\n",
            "min         0.000000\n",
            "25%         1.000000\n",
            "50%         2.000000\n",
            "75%         2.000000\n",
            "max         4.000000\n",
            "Name: GarageCars, dtype: float64\n"
          ]
        }
      ]
    },
    {
      "cell_type": "code",
      "source": [
        "# Detecting outliers with IQR-method\n",
        "def detect_outliers_iqr(data, column, threshold=1.5):\n",
        "    \"\"\"使用IQR方法检测异常值\"\"\"\n",
        "    Q1 = data[column].quantile(0.25)\n",
        "    Q3 = data[column].quantile(0.75)\n",
        "    IQR = Q3 - Q1\n",
        "    lower_bound = Q1 - threshold * IQR\n",
        "    upper_bound = Q3 + threshold * IQR\n",
        "\n",
        "    outliers = data[(data[column] < lower_bound) | (data[column] > upper_bound)]\n",
        "    return outliers, lower_bound, upper_bound\n",
        "\n",
        "# IQR-Method\n",
        "outliers_iqr, lower_bound, upper_bound = detect_outliers_iqr(df_train, 'GarageYrBlt')\n",
        "print(f\"正常值范围: [{lower_bound:.2f}, {upper_bound:.2f}]\")\n",
        "\n",
        "# Visualisation\n",
        "plt.figure(figsize=(10, 6))\n",
        "sns.scatterplot(x=df_train.index, y=df_train['GarageYrBlt'], label='Normal')\n",
        "if len(outliers_iqr) > 0:\n",
        "    sns.scatterplot(x=outliers_iqr.index, y=outliers_iqr['GarageYrBlt'],\n",
        "                   color='red', label='Outlier(IQR)')\n",
        "plt.axhline(y=upper_bound, color='r', linestyle='--', alpha=0.7, label='Boundary')\n",
        "plt.axhline(y=lower_bound, color='r', linestyle='--', alpha=0.7)\n",
        "plt.title('Detection of outliers')\n",
        "plt.legend()\n",
        "plt.show()\n",
        "\n",
        "# Erase the outliers from df-train\n",
        "original_size = len(df_train)\n",
        "df_train_clean = df_train[(df_train['GarageYrBlt'] >= lower_bound) &\n",
        "                         (df_train['GarageYrBlt'] <= upper_bound)].copy()\n",
        "\n",
        "print(f\"\\n异常值处理结果:\")\n",
        "print(f\"原始数据量: {original_size}\")\n",
        "print(f\"清理后数据量: {len(df_train_clean)}\")\n",
        "print(f\"剔除异常值数量: {original_size - len(df_train_clean)}\")\n",
        "\n",
        "# Erase the outliers from X_test_processed\n",
        "outliers_iqr, lower_bound, upper_bound = detect_outliers_iqr(X_test_processed, 'GarageYrBlt')\n",
        "print(f\"正常值范围: [{lower_bound:.2f}, {upper_bound:.2f}]\")\n",
        "original_size = len(X_test_processed)\n",
        "X_test_clean = X_test_processed[(X_test_processed['GarageYrBlt'] >= lower_bound) &\n",
        "                         (X_test_processed['GarageYrBlt'] <= upper_bound)].copy()\n",
        "\n",
        "print(f\"\\n异常值处理结果:\")\n",
        "print(f\"原始数据量: {original_size}\")\n",
        "print(f\"清理后数据量: {len(X_test_clean)}\")\n",
        "print(f\"剔除异常值数量: {original_size - len(X_test_clean)}\")"
      ],
      "metadata": {
        "colab": {
          "base_uri": "https://localhost:8080/",
          "height": 790
        },
        "id": "cHn68BeqUjix",
        "outputId": "40953d6b-d1c4-478b-f7ca-7787afa2f05d"
      },
      "id": "cHn68BeqUjix",
      "execution_count": 17,
      "outputs": [
        {
          "output_type": "stream",
          "name": "stdout",
          "text": [
            "正常值范围: [1892.50, 2064.50]\n"
          ]
        },
        {
          "output_type": "display_data",
          "data": {
            "text/plain": [
              "<Figure size 1000x600 with 1 Axes>"
            ],
            "image/png": "[encoded data removed]"
          },
          "metadata": {}
        },
        {
          "output_type": "stream",
          "name": "stdout",
          "text": [
            "\n",
            "异常值处理结果:\n",
            "原始数据量: 1168\n",
            "清理后数据量: 1103\n",
            "剔除异常值数量: 65\n",
            "正常值范围: [1900.50, 2064.50]\n",
            "\n",
            "异常值处理结果:\n",
            "原始数据量: 292\n",
            "清理后数据量: 276\n",
            "剔除异常值数量: 16\n"
          ]
        }
      ]
    },
    {
      "cell_type": "code",
      "source": [
        "def preprocess_data(df, target_column=None, is_train=True):\n",
        "    \"\"\"完整的数据预处理函数\"\"\"\n",
        "    df_processed = df.copy()\n",
        "\n",
        "    # 1. 处理GarageCars列（如果存在）\n",
        "    if 'GarageCars' in df_processed.columns:\n",
        "        df_processed['GarageCars'] = df_processed['GarageCars'].apply(convert_garage_cars)\n",
        "\n",
        "    # 2. 删除不必要的列\n",
        "    columns_to_drop = ['col1']  # 可以根据实际情况调整\n",
        "    existing_cols_to_drop = [col for col in columns_to_drop if col in df_processed.columns]\n",
        "    if existing_cols_to_drop:\n",
        "        df_processed = df_processed.drop(columns=existing_cols_to_drop)\n",
        "\n",
        "    # 3. 分离特征和目标变量（如果是训练数据）\n",
        "    if is_train and target_column and target_column in df_processed.columns:\n",
        "        y = df_processed[target_column]\n",
        "        X = df_processed.drop(columns=[target_column])\n",
        "    else:\n",
        "        X = df_processed\n",
        "        y = None\n",
        "\n",
        "    # 4. 处理缺失值\n",
        "    # 数值列用中位数填充\n",
        "    numeric_columns = X.select_dtypes(include=[np.number]).columns\n",
        "    for col in numeric_columns:\n",
        "        if X[col].isnull().sum() > 0:\n",
        "            median_val = X[col].median()\n",
        "            X[col] = X[col].fillna(median_val)\n",
        "\n",
        "    # 分类列用众数填充\n",
        "    categorical_columns = X.select_dtypes(include=['object']).columns\n",
        "    for col in categorical_columns:\n",
        "        if X[col].isnull().sum() > 0:\n",
        "            mode_val = X[col].mode()[0] if len(X[col].mode()) > 0 else 'Unknown'\n",
        "            X[col] = X[col].fillna(mode_val)\n",
        "\n",
        "    # 5. 编码分类变量\n",
        "    X_encoded = pd.get_dummies(X, prefix_sep='_', drop_first=True)\n",
        "\n",
        "    return (X_encoded, y) if is_train else X_encoded\n",
        "\n",
        "# 应用预处理\n",
        "print(\"\\n=== 数据预处理 ===\")\n",
        "X_processed, y_processed = preprocess_data(df_train_clean, target_column, is_train=True)\n",
        "X_test_clean = preprocess_data(X_test_clean, is_train=False)\n",
        "\n",
        "print(f\"预处理后训练特征形状: {X_processed.shape}\")\n",
        "print(f\"预处理后测试特征形状: {X_test_processed.shape}\")\n",
        "\n",
        "# 确保特征一致性\n",
        "common_columns = X_processed.columns.intersection(X_test_clean.columns)\n",
        "X_processed = X_processed[common_columns]\n",
        "X_test_clean = X_test_clean[common_columns]\n",
        "\n",
        "# 添加缺失的列\n",
        "missing_cols_train = set(X_test_clean.columns) - set(X_processed.columns)\n",
        "missing_cols_test = set(X_processed.columns) - set(X_test_clean.columns)\n",
        "\n",
        "for col in missing_cols_test:\n",
        "    X_test_clean[col] = 0\n",
        "\n",
        "X_test_clean = X_test_clean[X_processed.columns]\n",
        "\n",
        "print(f\"对齐后训练特征形状: {X_processed.shape}\")\n",
        "print(f\"对齐后测试特征形状: {X_test_clean.shape}\")"
      ],
      "metadata": {
        "colab": {
          "base_uri": "https://localhost:8080/"
        },
        "id": "u93q-MqZV8pK",
        "outputId": "2f6dfde4-5d6e-4487-fe49-1a525d176321"
      },
      "id": "u93q-MqZV8pK",
      "execution_count": 18,
      "outputs": [
        {
          "output_type": "stream",
          "name": "stdout",
          "text": [
            "\n",
            "=== 数据预处理 ===\n",
            "预处理后训练特征形状: (1103, 16)\n",
            "预处理后测试特征形状: (292, 16)\n",
            "对齐后训练特征形状: (1103, 16)\n",
            "对齐后测试特征形状: (276, 16)\n"
          ]
        }
      ]
    },
    {
      "cell_type": "markdown",
      "id": "955e62d0-5a9d-498e-ba9d-7d08cd009499",
      "metadata": {
        "id": "955e62d0-5a9d-498e-ba9d-7d08cd009499"
      },
      "source": [
        "### Model Building and Evaluation"
      ]
    },
    {
      "cell_type": "code",
      "source": [
        "# 分割训练集和验证集\n",
        "X_train, X_val, y_train, y_val = train_test_split(X_processed, y_processed, test_size=0.2, random_state=42)\n",
        "\n",
        "print(\"=== 模型训练 ===\")\n",
        "print(f\"训练集大小: {X_train.shape}\")\n",
        "print(f\"验证集大小: {X_val.shape}\")\n",
        "\n",
        "# 线性回归模型\n",
        "lr_model = LinearRegression()\n",
        "lr_model.fit(X_train, y_train)\n",
        "\n",
        "# 随机森林模型（可选）\n",
        "rf_model = RandomForestRegressor(n_estimators=100, random_state=42)\n",
        "rf_model.fit(X_train, y_train)\n",
        "\n",
        "# 模型评估\n",
        "def evaluate_model(model, X, y, model_name):\n",
        "    y_pred = model.predict(X)\n",
        "    mae = mean_absolute_error(y, y_pred)\n",
        "    mse = mean_squared_error(y, y_pred)\n",
        "    rmse = np.sqrt(mse)\n",
        "\n",
        "    print(f\"{model_name} - MAE: {mae:.2f}, RMSE: {rmse:.2f}\")\n",
        "    return y_pred\n",
        "\n",
        "print(\"\\n=== 模型性能 ===\")\n",
        "print(\"训练集性能:\")\n",
        "lr_train_pred = evaluate_model(lr_model, X_train, y_train, \"线性回归\")\n",
        "rf_train_pred = evaluate_model(rf_model, X_train, y_train, \"随机森林\")\n",
        "\n",
        "print(\"\\n验证集性能:\")\n",
        "lr_val_pred = evaluate_model(lr_model, X_val, y_val, \"线性回归\")\n",
        "rf_val_pred = evaluate_model(rf_model, X_val, y_val, \"随机森林\")\n",
        "\n",
        "# 选择更好的模型（基于验证集MAE）\n",
        "lr_mae = mean_absolute_error(y_val, lr_val_pred)\n",
        "rf_mae = mean_absolute_error(y_val, rf_val_pred)\n",
        "\n",
        "best_model = lr_model if lr_mae < rf_mae else rf_model\n",
        "best_model_name = \"线性回归\" if lr_mae < rf_mae else \"随机森林\"\n",
        "print(f\"\\n选择的最佳模型: {best_model_name}\")\n"
      ],
      "metadata": {
        "colab": {
          "base_uri": "https://localhost:8080/"
        },
        "id": "VvYoe1nFXsPX",
        "outputId": "9aeb90d3-93f6-4872-d07c-f4d377c99579"
      },
      "id": "VvYoe1nFXsPX",
      "execution_count": 19,
      "outputs": [
        {
          "output_type": "stream",
          "name": "stdout",
          "text": [
            "=== 模型训练 ===\n",
            "训练集大小: (882, 16)\n",
            "验证集大小: (221, 16)\n",
            "\n",
            "=== 模型性能 ===\n",
            "训练集性能:\n",
            "线性回归 - MAE: 31893.09, RMSE: 46353.19\n",
            "随机森林 - MAE: 10501.15, RMSE: 16243.30\n",
            "\n",
            "验证集性能:\n",
            "线性回归 - MAE: 29701.00, RMSE: 40805.66\n",
            "随机森林 - MAE: 25394.04, RMSE: 37406.49\n",
            "\n",
            "选择的最佳模型: 随机森林\n"
          ]
        }
      ]
    },
    {
      "cell_type": "markdown",
      "id": "20cee3d0-2b7f-45e7-bb94-b92c9e78158f",
      "metadata": {
        "id": "20cee3d0-2b7f-45e7-bb94-b92c9e78158f"
      },
      "source": [
        "### Generating Submission File"
      ]
    },
    {
      "cell_type": "code",
      "source": [
        "# 在完整训练集上重新训练最佳模型\n",
        "best_model.fit(X_processed, y_processed)\n",
        "\n",
        "# 测试集预测\n",
        "y_pred_test = best_model.predict(X_test_clean)\n",
        "\n",
        "# 生成提交文件\n",
        "submission = pd.DataFrame({\n",
        "    'id': X_test_clean.index,\n",
        "    'SalePrice': y_pred_test\n",
        "})\n",
        "\n",
        "submission.to_csv('submission.csv', index=False, sep=',')\n",
        "print(\"\\n=== 提交文件生成完成 ===\")\n",
        "print(f\"文件已保存: submission.csv\")\n",
        "print(\"前5行预览:\")\n",
        "print(submission.head())\n",
        "\n",
        "# 预测结果统计\n",
        "print(f\"\\n预测结果统计:\")\n",
        "print(f\"预测值范围: [{y_pred_test.min():.2f}, {y_pred_test.max():.2f}]\")\n",
        "print(f\"预测值均值: {y_pred_test.mean():.2f}\")"
      ],
      "metadata": {
        "colab": {
          "base_uri": "https://localhost:8080/"
        },
        "id": "RW1Fpy9CZYBX",
        "outputId": "85dce8f4-0558-483e-cf7d-666c8aa024c3"
      },
      "id": "RW1Fpy9CZYBX",
      "execution_count": 21,
      "outputs": [
        {
          "output_type": "stream",
          "name": "stdout",
          "text": [
            "\n",
            "=== 提交文件生成完成 ===\n",
            "文件已保存: submission.csv\n",
            "前5行预览:\n",
            "     id  SalePrice\n",
            "0   892  275971.29\n",
            "1  1105  191912.58\n",
            "2   413  167930.00\n",
            "3   522  191636.55\n",
            "4  1036  176596.75\n",
            "\n",
            "预测结果统计:\n",
            "预测值范围: [101173.80, 454359.54]\n",
            "预测值均值: 188800.54\n"
          ]
        }
      ]
    }
  ],
  "metadata": {
    "kernelspec": {
      "display_name": "Python 3 (ipykernel)",
      "language": "python",
      "name": "python3"
    },
    "language_info": {
      "codemirror_mode": {
        "name": "ipython",
        "version": 3
      },
      "file_extension": ".py",
      "mimetype": "text/x-python",
      "name": "python",
      "nbconvert_exporter": "python",
      "pygments_lexer": "ipython3",
      "version": "3.12.3"
    },
    "colab": {
      "provenance": []
    }
  },
  "nbformat": 4,
  "nbformat_minor": 5
}