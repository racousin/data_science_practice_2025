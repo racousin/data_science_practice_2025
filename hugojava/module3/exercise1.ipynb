{
 "cells": [
  {
   "cell_type": "code",
   "execution_count": 1,
   "id": "32854d75-093f-46c0-8b84-1fe9c6c1bfa5",
   "metadata": {},
   "outputs": [],
   "source": [
    "#!pip install pandas\n",
    "import pandas as pd"
   ]
  },
  {
   "cell_type": "markdown",
   "id": "623f9a8c-e5e1-46a7-9dd1-1ef0e9cec868",
   "metadata": {},
   "source": [
    "### Data Collection"
   ]
  },
  {
   "cell_type": "code",
   "execution_count": 2,
   "id": "cac2bf4b-cce6-4f01-a906-21c6b83ee515",
   "metadata": {},
   "outputs": [
    {
     "name": "stdout",
     "output_type": "stream",
     "text": [
      "Downloaded module3_exercise_train.csv from https://www.raphaelcousin.com/modules/data-science-practice/module3/exercise/module3_exercise_train.csv\n",
      "Downloaded module3_exercise_test.csv from https://www.raphaelcousin.com/modules/data-science-practice/module3/exercise/module3_exercise_test.csv\n"
     ]
    }
   ],
   "source": [
    "#!pip install requests\n",
    "import requests\n",
    "\n",
    "# URLs of the files\n",
    "train_data_url = 'https://www.raphaelcousin.com/modules/data-science-practice/module3/exercise/module3_exercise_train.csv'\n",
    "test_data_url = 'https://www.raphaelcousin.com/modules/data-science-practice/module3/exercise/module3_exercise_test.csv'\n",
    "\n",
    "# Function to download a file\n",
    "def download_file(url, file_name):\n",
    "    response = requests.get(url)\n",
    "    response.raise_for_status()  # Ensure we notice bad responses\n",
    "    with open(file_name, 'wb') as file:\n",
    "        file.write(response.content)\n",
    "    print(f'Downloaded {file_name} from {url}')\n",
    "\n",
    "# Downloading the files\n",
    "download_file(train_data_url, 'module3_exercise_train.csv')\n",
    "download_file(test_data_url, 'module3_exercise_test.csv')"
   ]
  },
  {
   "cell_type": "code",
   "execution_count": 3,
   "id": "923f12cb-09c7-4952-b9d3-faf1ff9ada52",
   "metadata": {},
   "outputs": [],
   "source": [
    "df_train =  pd.read_csv(\"module3_exercise_train.csv\", sep=\",\", index_col='id')"
   ]
  },
  {
   "cell_type": "markdown",
   "id": "24460d16-e65e-4277-ae63-3c2ec1343f9e",
   "metadata": {},
   "source": [
    "### Data Preprocessing"
   ]
  },
  {
   "cell_type": "code",
   "execution_count": 4,
   "id": "6b6004b7",
   "metadata": {},
   "outputs": [
    {
     "name": "stdout",
     "output_type": "stream",
     "text": [
      "<class 'pandas.core.frame.DataFrame'>\n",
      "Index: 1168 entries, 254 to 1126\n",
      "Data columns (total 17 columns):\n",
      " #   Column         Non-Null Count  Dtype  \n",
      "---  ------         --------------  -----  \n",
      " 0   BedroomAbvGr   1168 non-null   int64  \n",
      " 1   KitchenAbvGr   1168 non-null   int64  \n",
      " 2   TotRmsAbvGrd   1167 non-null   float64\n",
      " 3   Fireplaces     1168 non-null   int64  \n",
      " 4   GarageYrBlt    1168 non-null   float64\n",
      " 5   GarageCars     1167 non-null   object \n",
      " 6   GarageArea     1168 non-null   int64  \n",
      " 7   WoodDeckSF     1168 non-null   int64  \n",
      " 8   OpenPorchSF    1168 non-null   int64  \n",
      " 9   EnclosedPorch  1168 non-null   int64  \n",
      " 10  3SsnPorch      1168 non-null   int64  \n",
      " 11  ScreenPorch    1168 non-null   int64  \n",
      " 12  PoolArea       1168 non-null   int64  \n",
      " 13  MiscVal        1168 non-null   int64  \n",
      " 14  MoSold         1168 non-null   int64  \n",
      " 15  YrSold         1167 non-null   float64\n",
      " 16  SalePrice      1168 non-null   int64  \n",
      "dtypes: float64(3), int64(13), object(1)\n",
      "memory usage: 164.2+ KB\n"
     ]
    }
   ],
   "source": [
    "df_train.info()"
   ]
  },
  {
   "cell_type": "code",
   "execution_count": 5,
   "id": "0a6af522-206c-4778-abea-38b612bf5190",
   "metadata": {},
   "outputs": [],
   "source": [
    "def pipeline(df):\n",
    "    # On supprime toutes les colonnes qui ne sont pas des int ou des float\n",
    "    df = df.select_dtypes(include=[\"int64\", \"float64\"]).fillna(-1)\n",
    "\n",
    "\n",
    "    # On remplace les valeurs manquantes par -1\n",
    "    df.fillna(-1, inplace=True)\n",
    "    return df\n",
    "\n",
    "df_train=pipeline(df_train)\n"
   ]
  },
  {
   "cell_type": "code",
   "execution_count": 6,
   "id": "b8dc23ae",
   "metadata": {},
   "outputs": [
    {
     "data": {
      "text/plain": [
       "'\\nremove = []\\nfor column in df_train.columns:\\n    if df_train[column].dtype not in [\"int64\", \"float64\"]:\\n        remove.append(column)\\n\\ndf_train.drop(remove, axis=1, inplace=True)\\n'"
      ]
     },
     "execution_count": 6,
     "metadata": {},
     "output_type": "execute_result"
    }
   ],
   "source": [
    "\"\"\"\n",
    "remove = []\n",
    "for column in df_train.columns:\n",
    "    if df_train[column].dtype not in [\"int64\", \"float64\"]:\n",
    "        remove.append(column)\n",
    "\n",
    "df_train.drop(remove, axis=1, inplace=True)\n",
    "\"\"\""
   ]
  },
  {
   "cell_type": "markdown",
   "id": "955e62d0-5a9d-498e-ba9d-7d08cd009499",
   "metadata": {},
   "source": [
    "### Model Building and Evaluation"
   ]
  },
  {
   "cell_type": "code",
   "execution_count": 7,
   "id": "2240b9be-2019-40a9-a30b-e9f2bf676e90",
   "metadata": {},
   "outputs": [],
   "source": [
    "from sklearn.linear_model import LinearRegression\n",
    "from sklearn.metrics import mean_absolute_error"
   ]
  },
  {
   "cell_type": "markdown",
   "id": "aac01ed8",
   "metadata": {},
   "source": [
    "#### Create a train and a test set"
   ]
  },
  {
   "cell_type": "code",
   "execution_count": 8,
   "id": "e13d23f1",
   "metadata": {},
   "outputs": [],
   "source": [
    "seed = 42"
   ]
  },
  {
   "cell_type": "code",
   "execution_count": 9,
   "id": "a6ed94db",
   "metadata": {},
   "outputs": [],
   "source": [
    "y = df_train['SalePrice']\n",
    "X = df_train.drop(\"SalePrice\", axis=1)"
   ]
  },
  {
   "cell_type": "code",
   "execution_count": 10,
   "id": "5b526ad8",
   "metadata": {},
   "outputs": [],
   "source": [
    "from sklearn.model_selection import train_test_split\n",
    "\n",
    "X_train, X_test, y_train, y_test = train_test_split(X, y, test_size=0.2, random_state=seed)"
   ]
  },
  {
   "cell_type": "markdown",
   "id": "d3bd1ac1",
   "metadata": {},
   "source": [
    "#### Entrainement du modèle"
   ]
  },
  {
   "cell_type": "code",
   "execution_count": 11,
   "id": "d2ac32df",
   "metadata": {},
   "outputs": [],
   "source": [
    "model = LinearRegression()\n",
    "model = model.fit(X_train, y_train)"
   ]
  },
  {
   "cell_type": "markdown",
   "id": "4697d5d2",
   "metadata": {},
   "source": [
    "#### Prediction"
   ]
  },
  {
   "cell_type": "code",
   "execution_count": 12,
   "id": "69308fdf",
   "metadata": {},
   "outputs": [],
   "source": [
    "y_pred = model.predict(X_test)"
   ]
  },
  {
   "cell_type": "markdown",
   "id": "347c5e13",
   "metadata": {},
   "source": [
    "#### Evaluation du modèle"
   ]
  },
  {
   "cell_type": "code",
   "execution_count": 13,
   "id": "bf4de6c2",
   "metadata": {},
   "outputs": [
    {
     "name": "stdout",
     "output_type": "stream",
     "text": [
      "32533.838983537476\n"
     ]
    }
   ],
   "source": [
    "mse = mean_absolute_error(y_test, y_pred)\n",
    "print(mse)"
   ]
  },
  {
   "cell_type": "markdown",
   "id": "20cee3d0-2b7f-45e7-bb94-b92c9e78158f",
   "metadata": {},
   "source": [
    "### Generating Submission File"
   ]
  },
  {
   "cell_type": "code",
   "execution_count": 14,
   "id": "be18f935-290d-4788-bbea-d67717ed3bd6",
   "metadata": {},
   "outputs": [],
   "source": [
    "df_test =  pd.read_csv(\"module3_exercise_test.csv\", sep=\",\", index_col='id')"
   ]
  },
  {
   "cell_type": "code",
   "execution_count": 15,
   "id": "14360c97",
   "metadata": {},
   "outputs": [],
   "source": [
    "df_test = pipeline(df_test)"
   ]
  },
  {
   "cell_type": "code",
   "execution_count": 16,
   "id": "f40177a5",
   "metadata": {},
   "outputs": [],
   "source": [
    "y_pred_eval = model.predict(df_test)"
   ]
  },
  {
   "cell_type": "code",
   "execution_count": 17,
   "id": "0bf5c300-75db-4834-ae40-3c39480e370f",
   "metadata": {},
   "outputs": [
    {
     "data": {
      "text/html": [
       "<div>\n",
       "<style scoped>\n",
       "    .dataframe tbody tr th:only-of-type {\n",
       "        vertical-align: middle;\n",
       "    }\n",
       "\n",
       "    .dataframe tbody tr th {\n",
       "        vertical-align: top;\n",
       "    }\n",
       "\n",
       "    .dataframe thead th {\n",
       "        text-align: right;\n",
       "    }\n",
       "</style>\n",
       "<table border=\"1\" class=\"dataframe\">\n",
       "  <thead>\n",
       "    <tr style=\"text-align: right;\">\n",
       "      <th></th>\n",
       "      <th>id</th>\n",
       "      <th>SalePrice</th>\n",
       "    </tr>\n",
       "  </thead>\n",
       "  <tbody>\n",
       "    <tr>\n",
       "      <th>0</th>\n",
       "      <td>892</td>\n",
       "      <td>272019.284918</td>\n",
       "    </tr>\n",
       "    <tr>\n",
       "      <th>1</th>\n",
       "      <td>1105</td>\n",
       "      <td>235991.854125</td>\n",
       "    </tr>\n",
       "    <tr>\n",
       "      <th>2</th>\n",
       "      <td>413</td>\n",
       "      <td>264733.377225</td>\n",
       "    </tr>\n",
       "    <tr>\n",
       "      <th>3</th>\n",
       "      <td>522</td>\n",
       "      <td>226985.240146</td>\n",
       "    </tr>\n",
       "    <tr>\n",
       "      <th>4</th>\n",
       "      <td>1036</td>\n",
       "      <td>149959.165645</td>\n",
       "    </tr>\n",
       "  </tbody>\n",
       "</table>\n",
       "</div>"
      ],
      "text/plain": [
       "     id      SalePrice\n",
       "0   892  272019.284918\n",
       "1  1105  235991.854125\n",
       "2   413  264733.377225\n",
       "3   522  226985.240146\n",
       "4  1036  149959.165645"
      ]
     },
     "execution_count": 17,
     "metadata": {},
     "output_type": "execute_result"
    }
   ],
   "source": [
    "submission = pd.DataFrame({\n",
    "    'id': df_test.index,\n",
    "    'SalePrice': y_pred_eval # your_prediction\n",
    "})\n",
    "\n",
    "submission.to_csv('submission.csv', index=False, sep=',')\n",
    "submission.head()"
   ]
  }
 ],
 "metadata": {
  "kernelspec": {
   "display_name": ".myenv",
   "language": "python",
   "name": "python3"
  },
  "language_info": {
   "codemirror_mode": {
    "name": "ipython",
    "version": 3
   },
   "file_extension": ".py",
   "mimetype": "text/x-python",
   "name": "python",
   "nbconvert_exporter": "python",
   "pygments_lexer": "ipython3",
   "version": "3.13.7"
  }
 },
 "nbformat": 4,
 "nbformat_minor": 5
}
