{
 "cells": [
  {
   "cell_type": "code",
   "execution_count": 62,
   "id": "5ed6d52b-732b-4462-8f1d-75741067ecba",
   "metadata": {},
   "outputs": [],
   "source": [
    "import pandas as pd\n",
    "import matplotlib.pyplot as plt\n",
    "import numpy as np\n",
    "import seaborn as sns"
   ]
  },
  {
   "cell_type": "markdown",
   "id": "ea3ee8dd-5dae-4900-8f89-2f57a02231ff",
   "metadata": {},
   "source": [
    "## Data Collection"
   ]
  },
  {
   "cell_type": "markdown",
   "id": "dff7b6c3-5df9-4f2c-87e9-38d9a812cbcc",
   "metadata": {},
   "source": [
    "### Files sources"
   ]
  },
  {
   "cell_type": "code",
   "execution_count": 63,
   "id": "19b8c48c-9f5c-4796-b25e-cd52e1a5dc22",
   "metadata": {},
   "outputs": [
    {
     "name": "stdout",
     "output_type": "stream",
     "text": [
      "Downloaded module4_exercise_train.zip from https://www.raphaelcousin.com/modules/data-science-practice/module4/exercise/module4_exercise_train.zip\n",
      "Downloaded Neighborhood_Market_data.csv from https://www.raphaelcousin.com/modules/data-science-practice/module4/exercise/Neighborhood_Market_data.csv\n"
     ]
    }
   ],
   "source": [
    "import requests\n",
    "# URLs of the files\n",
    "train_datas_url = 'https://www.raphaelcousin.com/modules/data-science-practice/module4/exercise/module4_exercise_train.zip'\n",
    "test_data_url = 'https://www.raphaelcousin.com/modules/data-science-practice/module4/exercise/Neighborhood_Market_data.csv'\n",
    "\n",
    "# Function to download a file\n",
    "def download_file(url, file_name):\n",
    "    response = requests.get(url)\n",
    "    response.raise_for_status()  # Ensure we notice bad responses\n",
    "    with open(file_name, 'wb') as file:\n",
    "        file.write(response.content)\n",
    "    print(f'Downloaded {file_name} from {url}')\n",
    "\n",
    "# Downloading the files\n",
    "download_file(train_datas_url, 'module4_exercise_train.zip')\n",
    "download_file(test_data_url, 'Neighborhood_Market_data.csv')"
   ]
  },
  {
   "cell_type": "markdown",
   "id": "3d70e011",
   "metadata": {},
   "source": [
    "#### Ouvrir le fichier zippé"
   ]
  },
  {
   "cell_type": "code",
   "execution_count": 64,
   "id": "39d6541f",
   "metadata": {},
   "outputs": [
    {
     "name": "stdout",
     "output_type": "stream",
     "text": [
      "Fichiers dans le zip : ['CityMart_data.csv', 'Greenfield_Grocers_data.csv', 'HighStreet_Bazaar_data.json', 'SuperSaver_Outlet_data.xlsx']\n"
     ]
    }
   ],
   "source": [
    "import zipfile\n",
    "\n",
    "# chemin vers ton fichier ZIP\n",
    "zip_path = 'module4_exercise_train.zip'\n",
    "\n",
    "# Ouvrir le  zip et afficher le nom des fichiers\n",
    "with zipfile.ZipFile(zip_path, \"r\") as zip_ref:\n",
    "    # lister les fichiers contenus\n",
    "    print(\"Fichiers dans le zip :\", zip_ref.namelist())"
   ]
  },
  {
   "cell_type": "markdown",
   "id": "72397636-457a-4f62-818c-18d4967396d1",
   "metadata": {},
   "source": [
    "#### CityMart"
   ]
  },
  {
   "cell_type": "code",
   "execution_count": 65,
   "id": "13aa4dce-b3ac-4b52-939c-081445f17494",
   "metadata": {},
   "outputs": [
    {
     "name": "stdout",
     "output_type": "stream",
     "text": [
      "CityMart_data.csv\n",
      "  item_code store_name  mass  dimension_length  dimension_width  \\\n",
      "0     P0019   CityMart  2.81             26.83            38.75   \n",
      "1     P0024   CityMart  3.30             59.23            34.99   \n",
      "2     P0025   CityMart  2.34             22.60            16.90   \n",
      "3     P0034   CityMart  6.54             18.59            68.72   \n",
      "4     P0039   CityMart  9.94             57.89            88.33   \n",
      "\n",
      "   dimension_height  days_since_last_purchase  package_volume  stock_age  \\\n",
      "0             24.89                       323    25877.199625        253   \n",
      "1             21.78                       321    45138.128706         21   \n",
      "2             60.12                       291    22962.232800        316   \n",
      "3             21.99                       126    28092.330552        612   \n",
      "4             35.45                       312   181270.870165        968   \n",
      "\n",
      "   quantity_sold last_modified  \n",
      "0            202    2023-01-19  \n",
      "1            225    2023-01-24  \n",
      "2            278    2023-01-25  \n",
      "3            233    2023-02-03  \n",
      "4            203    2023-02-08  \n"
     ]
    }
   ],
   "source": [
    "# read \"CityMart_data.csv\"\n",
    "\n",
    "# premier fichier CSV à l'intérieur du zip\n",
    "csv_filename = zip_ref.namelist()[0]\n",
    "print(csv_filename)\n",
    "\n",
    "# Ouvire le zip et ouvrir le fichier\n",
    "with zipfile.ZipFile(zip_path, \"r\") as zip_ref:\n",
    "    # lire le CSV directement sans l'extraire\n",
    "    with zip_ref.open(csv_filename) as f:\n",
    "        df_CityMart = pd.read_csv(f)\n",
    "print(df_CityMart.head())"
   ]
  },
  {
   "cell_type": "markdown",
   "id": "f4d16f20-40d2-457c-a3fc-5f7a416be0aa",
   "metadata": {},
   "source": [
    "#### Greenfield_Grocers"
   ]
  },
  {
   "cell_type": "code",
   "execution_count": 66,
   "id": "5620b628-b30d-4670-a2d5-6576c009f5dc",
   "metadata": {},
   "outputs": [
    {
     "name": "stdout",
     "output_type": "stream",
     "text": [
      "Greenfield_Grocers_data.csv\n",
      "  ITEM_CODE          STORE_NAME  MASS  DIMENSION_LENGTH  DIMENSION_WIDTH  \\\n",
      "0     P0006  Greenfield_Grocers  5.02             86.68            71.64   \n",
      "1     P0014  Greenfield_Grocers  9.91             21.67            54.91   \n",
      "2     P0016  Greenfield_Grocers  1.13             60.03            97.39   \n",
      "3     P0021  Greenfield_Grocers  0.95             40.36            67.91   \n",
      "4     P0028  Greenfield_Grocers  5.24             22.37            61.78   \n",
      "\n",
      "   DIMENSION_HEIGHT  DAYS_SINCE_LAST_PURCHASE  PACKAGE_VOLUME  STOCK_AGE  \\\n",
      "0             16.42                        66   101964.180384        450   \n",
      "1             84.80                        99   100903.494560        827   \n",
      "2             90.00                       348   526168.953000        981   \n",
      "3             99.76                       301   273426.956576        289   \n",
      "4             68.67                        15    94903.217262        423   \n",
      "\n",
      "   QUANTITY_SOLD LAST_MODIFIED   1  Unnamed: 12  \n",
      "0            130    2023-01-06 NaN          NaN  \n",
      "1            118    2023-01-14 NaN          NaN  \n",
      "2            136    2023-01-16 NaN          NaN  \n",
      "3            155    2023-01-21 NaN          NaN  \n",
      "4            177    2023-01-28 NaN          NaN  \n",
      "(401, 13)\n",
      "(401, 11)\n",
      "  item_code          store_name  mass  dimension_length  dimension_width  \\\n",
      "0     P0006  Greenfield_Grocers  5.02             86.68            71.64   \n",
      "1     P0014  Greenfield_Grocers  9.91             21.67            54.91   \n",
      "2     P0016  Greenfield_Grocers  1.13             60.03            97.39   \n",
      "3     P0021  Greenfield_Grocers  0.95             40.36            67.91   \n",
      "4     P0028  Greenfield_Grocers  5.24             22.37            61.78   \n",
      "\n",
      "   dimension_height  days_since_last_purchase  package_volume  stock_age  \\\n",
      "0             16.42                        66   101964.180384        450   \n",
      "1             84.80                        99   100903.494560        827   \n",
      "2             90.00                       348   526168.953000        981   \n",
      "3             99.76                       301   273426.956576        289   \n",
      "4             68.67                        15    94903.217262        423   \n",
      "\n",
      "   quantity_sold last_modified  \n",
      "0            130    2023-01-06  \n",
      "1            118    2023-01-14  \n",
      "2            136    2023-01-16  \n",
      "3            155    2023-01-21  \n",
      "4            177    2023-01-28  \n"
     ]
    }
   ],
   "source": [
    "# read \"Greenfield_Grocers_data.csv\"\n",
    "\n",
    "# second fichier CSV à l'intérieur du zip\n",
    "csv_filename2 = zip_ref.namelist()[1]\n",
    "print(csv_filename2)\n",
    "\n",
    "# Ouvire le zip et ouvrir le fichier\n",
    "with zipfile.ZipFile(zip_path, \"r\") as zip_ref:\n",
    "    # lire le CSV directement sans l'extraire\n",
    "    with zip_ref.open(csv_filename2) as f:\n",
    "        df_Greenfield = pd.read_csv(f, sep=\"|\", header=3)\n",
    "print(df_Greenfield.head())\n",
    "print(df_Greenfield.shape)\n",
    "\n",
    "# On supprime les deux dernières colonnes\n",
    "df_Greenfield = df_Greenfield.drop(['Unnamed: 12','1'], axis=1)\n",
    "print(df_Greenfield.shape)\n",
    "\n",
    "# On mets les noms des colonnes en minuscule\n",
    "df_Greenfield.columns = df_Greenfield.columns.str.lower()\n",
    "print(df_Greenfield.head())"
   ]
  },
  {
   "cell_type": "markdown",
   "id": "86db4848-6a0f-4742-b4ce-4afe50fd1c09",
   "metadata": {},
   "source": [
    "#### Outlet_data"
   ]
  },
  {
   "cell_type": "code",
   "execution_count": 67,
   "id": "a7738fac-9711-4cc7-9b12-e564c539ba9c",
   "metadata": {},
   "outputs": [
    {
     "name": "stdout",
     "output_type": "stream",
     "text": [
      "SuperSaver_Outlet_data.xlsx\n",
      "  item_code  quantity_sold\n",
      "0     P0003            198\n",
      "1     P0007            211\n",
      "2     P0008            200\n",
      "3     P0009            209\n",
      "4     P0012            186\n"
     ]
    }
   ],
   "source": [
    "# read \"SuperSaver_Outlet_data.xlsx\"\n",
    "\n",
    "# fichier xlsx à l'intérieur du zip\n",
    "xlsx_filename = zip_ref.namelist()[3]\n",
    "print(xlsx_filename)\n",
    "\n",
    "# Ouvire le zip et ouvrir le fichier\n",
    "with zipfile.ZipFile(zip_path, \"r\") as zip_ref:\n",
    "    # lire le xlsx directement sans l'extraire\n",
    "    with zip_ref.open(xlsx_filename) as f:\n",
    "        df_SuperSaver = pd.read_excel(f)\n",
    "print(df_SuperSaver.head())"
   ]
  },
  {
   "cell_type": "markdown",
   "id": "8e716a08-25b0-4554-9627-285c4c03212c",
   "metadata": {},
   "source": [
    "#### HighStreet_Bazaar"
   ]
  },
  {
   "cell_type": "code",
   "execution_count": 68,
   "id": "f0fad164-436e-46db-acba-04a634c0b00c",
   "metadata": {},
   "outputs": [
    {
     "name": "stdout",
     "output_type": "stream",
     "text": [
      "HighStreet_Bazaar_data.json\n",
      "  item_code         store_name  mass  dimension_length  dimension_width  \\\n",
      "0     P0001  HighStreet_Bazaar  6.11             75.46            91.62   \n",
      "1     P0011  HighStreet_Bazaar  4.34             16.97            93.21   \n",
      "2     P0015  HighStreet_Bazaar  1.37             58.93            11.28   \n",
      "3     P0017  HighStreet_Bazaar  7.27             51.51            39.21   \n",
      "4     P0020  HighStreet_Bazaar  0.89             57.50            69.84   \n",
      "\n",
      "   dimension_height  days_since_last_purchase  package_volume  stock_age  \\\n",
      "0             92.08                      78.0   636608.450016        237   \n",
      "1             54.58                     344.0    86333.208546        184   \n",
      "2             73.87                     344.0    49103.634648        946   \n",
      "3             16.17                     138.0    32658.663807        268   \n",
      "4              6.12                     333.0    24576.696000        396   \n",
      "\n",
      "   quantity_sold  last_modified  \n",
      "0            346  1672531200000  \n",
      "1            218  1673395200000  \n",
      "2            315  1673740800000  \n",
      "3            228  1673913600000  \n",
      "4            228  1674172800000  \n",
      "int64\n",
      "  item_code         store_name  mass  dimension_length  dimension_width  \\\n",
      "0     P0001  HighStreet_Bazaar  6.11             75.46            91.62   \n",
      "1     P0011  HighStreet_Bazaar  4.34             16.97            93.21   \n",
      "2     P0015  HighStreet_Bazaar  1.37             58.93            11.28   \n",
      "3     P0017  HighStreet_Bazaar  7.27             51.51            39.21   \n",
      "4     P0020  HighStreet_Bazaar  0.89             57.50            69.84   \n",
      "\n",
      "   dimension_height  days_since_last_purchase  package_volume  stock_age  \\\n",
      "0             92.08                      78.0   636608.450016        237   \n",
      "1             54.58                     344.0    86333.208546        184   \n",
      "2             73.87                     344.0    49103.634648        946   \n",
      "3             16.17                     138.0    32658.663807        268   \n",
      "4              6.12                     333.0    24576.696000        396   \n",
      "\n",
      "   quantity_sold last_modified  \n",
      "0            346    2023-01-01  \n",
      "1            218    2023-01-11  \n",
      "2            315    2023-01-15  \n",
      "3            228    2023-01-17  \n",
      "4            228    2023-01-20  \n"
     ]
    }
   ],
   "source": [
    "# read 'HighStreet_Bazaar_data.json'\n",
    "\n",
    "# fichier json à l'intérieur du zip\n",
    "json_filename = zip_ref.namelist()[2]\n",
    "print(json_filename)\n",
    "\n",
    "# Ouvire le zip et ouvrir le fichier\n",
    "with zipfile.ZipFile(zip_path, \"r\") as zip_ref:\n",
    "    # lire le xlsx directement sans l'extraire\n",
    "    with zip_ref.open(json_filename) as f:\n",
    "        df_HighStreet = pd.read_json(f)\n",
    "print(df_HighStreet.head())\n",
    "\n",
    "# Mettre les dates en format date\n",
    "print(df_HighStreet['last_modified'].dtype)\n",
    "df_HighStreet['last_modified'] = pd.to_datetime(df_HighStreet['last_modified'], unit='ms').dt.date # ms = millisecond\n",
    "print(df_HighStreet.head())"
   ]
  },
  {
   "cell_type": "markdown",
   "id": "f715e81f",
   "metadata": {},
   "source": [
    "#### Concaténation des fichiers"
   ]
  },
  {
   "cell_type": "code",
   "execution_count": 69,
   "id": "ee73b2f6",
   "metadata": {},
   "outputs": [
    {
     "name": "stdout",
     "output_type": "stream",
     "text": [
      "          store_name  mass  dimension_length  dimension_width  \\\n",
      "item_code                                                       \n",
      "P0019       CityMart  2.81             26.83            38.75   \n",
      "P0024       CityMart  3.30             59.23            34.99   \n",
      "P0025       CityMart  2.34             22.60            16.90   \n",
      "P0034       CityMart  6.54             18.59            68.72   \n",
      "P0039       CityMart  9.94             57.89            88.33   \n",
      "\n",
      "           dimension_height  days_since_last_purchase  package_volume  \\\n",
      "item_code                                                               \n",
      "P0019                 24.89                     323.0    25877.199625   \n",
      "P0024                 21.78                     321.0    45138.128706   \n",
      "P0025                 60.12                     291.0    22962.232800   \n",
      "P0034                 21.99                     126.0    28092.330552   \n",
      "P0039                 35.45                     312.0   181270.870165   \n",
      "\n",
      "           stock_age  quantity_sold last_modified  \n",
      "item_code                                          \n",
      "P0019          253.0            202    2023-01-19  \n",
      "P0024           21.0            225    2023-01-24  \n",
      "P0025          316.0            278    2023-01-25  \n",
      "P0034          612.0            233    2023-02-03  \n",
      "P0039          968.0            203    2023-02-08  \n",
      "(1591, 10)\n",
      "1591\n",
      "1591\n"
     ]
    }
   ],
   "source": [
    "# Concat: Stack DataFrames vertically or horizontally\n",
    "dfs = [\n",
    "    df_CityMart.set_index(\"item_code\"),\n",
    "    df_Greenfield.set_index(\"item_code\"),\n",
    "    df_HighStreet.set_index(\"item_code\"),\n",
    "    df_SuperSaver.set_index(\"item_code\")\n",
    "]\n",
    "\n",
    "df_vertical = pd.concat(dfs, axis=0)\n",
    "\n",
    "print(df_vertical.head())\n",
    "print(df_vertical.shape)\n",
    "print(len(df_vertical))\n",
    "print(len(df_CityMart) + len(df_Greenfield) + len(df_HighStreet) + len(df_SuperSaver))"
   ]
  },
  {
   "cell_type": "markdown",
   "id": "f851e40e-4644-4b3f-9636-04ec5010ba89",
   "metadata": {},
   "source": [
    "#### Aggregate"
   ]
  },
  {
   "cell_type": "markdown",
   "id": "75f9bbff-1f14-48f3-a6f8-76ac701644cf",
   "metadata": {},
   "source": [
    "#### Simple baseline"
   ]
  },
  {
   "cell_type": "code",
   "execution_count": 70,
   "id": "143b8d21-b305-4e5a-a83a-8d1d3359d173",
   "metadata": {},
   "outputs": [],
   "source": [
    "from sklearn.model_selection import KFold\n",
    "from sklearn.metrics import mean_absolute_error, accuracy_score\n",
    "from sklearn.preprocessing import StandardScaler, MinMaxScaler\n",
    "from sklearn.linear_model import LinearRegression, LogisticRegression\n",
    "from sklearn.ensemble import RandomForestClassifier\n",
    "import numpy as np\n",
    "\n",
    "def get_simple_baseline(data, fillna_value=-1, drop_cols=None, k_fold=5, scaler='standard', model='linear', metric='mae', target_col=None, X_data_test=None):\n",
    "    \n",
    "    data = data.copy()\n",
    "    # Handle missing values\n",
    "    data.fillna(fillna_value, inplace=True)\n",
    "    if X_data_test is not None:\n",
    "        X_data_test = X_data_test.copy()\n",
    "        X_data_test.fillna(fillna_value, inplace=True)\n",
    "    \n",
    "    # Drop unwanted columns\n",
    "    if drop_cols:\n",
    "        data.drop(drop_cols, axis=1, inplace=True)\n",
    "        if X_data_test is not None:\n",
    "            X_data_test.drop(drop_cols, axis=1, inplace=True)\n",
    "\n",
    "    # Split data into features (X) and target (y)\n",
    "    y = data[target_col]\n",
    "    X = data.drop(target_col, axis=1)\n",
    "\n",
    "    # Feature scaling\n",
    "    if scaler == 'standard':\n",
    "        scaler = StandardScaler()\n",
    "    elif scaler == 'minmax':\n",
    "        scaler = MinMaxScaler()\n",
    "    else:\n",
    "        scaler = None\n",
    "    \n",
    "    if scaler:\n",
    "        X = scaler.fit_transform(X)\n",
    "        if X_data_test is not None:\n",
    "            X_data_test = scaler.transform(X_data_test)\n",
    "\n",
    "    # Initialize the model\n",
    "    if model == 'linear':\n",
    "        model = LinearRegression()\n",
    "    elif model == 'logistic':\n",
    "        model = LogisticRegression()\n",
    "    elif model == 'random_forest':\n",
    "        model = RandomForestClassifier()\n",
    "    else:\n",
    "        raise ValueError(\"Unsupported model type\")\n",
    "\n",
    "    # Initialize cross-validation\n",
    "    kf = KFold(n_splits=k_fold, shuffle=True, random_state=42)\n",
    "    scores = []\n",
    "\n",
    "    # Train and evaluate using k-fold cross-validation\n",
    "    for train_index, test_index in kf.split(X):\n",
    "        X_train, X_test = X[train_index], X[test_index]\n",
    "        y_train, y_test = y.iloc[train_index], y.iloc[test_index]\n",
    "        \n",
    "        # Train the model\n",
    "        model.fit(X_train, y_train)\n",
    "        \n",
    "        # Make predictions\n",
    "        y_pred = model.predict(X_test)\n",
    "        \n",
    "        # Evaluate using the specified metric\n",
    "        if metric == 'mae':\n",
    "            score = mean_absolute_error(y_test, y_pred)\n",
    "        elif metric == 'accuracy':\n",
    "            score = accuracy_score(y_test, np.round(y_pred))\n",
    "        else:\n",
    "            raise ValueError(\"Unsupported metric\")\n",
    "\n",
    "        scores.append(score)\n",
    "\n",
    "    if X_data_test is not None:\n",
    "        model.fit(X, y)\n",
    "        return np.mean(scores), model.predict(X_data_test)\n",
    "    \n",
    "    # Return the average score\n",
    "    return np.mean(scores)"
   ]
  },
  {
   "cell_type": "code",
   "execution_count": 71,
   "id": "82b7a46a-7c5e-4288-be2d-43269d0e859e",
   "metadata": {},
   "outputs": [
    {
     "data": {
      "text/plain": [
       "np.float64(45.25623515880098)"
      ]
     },
     "execution_count": 71,
     "metadata": {},
     "output_type": "execute_result"
    }
   ],
   "source": [
    "# get_simple_baseline(data, fillna_value=-1, drop_cols=['store_name', 'last_modified'], k_fold=5, scaler='standard', model='linear', metric='mae', target_col='quantity_sold')\n",
    "\n",
    "get_simple_baseline(df_vertical, fillna_value=-1, drop_cols=['store_name', 'last_modified'], k_fold=5, scaler='standard', model='linear', metric='mae', target_col='quantity_sold')"
   ]
  },
  {
   "cell_type": "markdown",
   "id": "697e0db3-f0c3-4a9e-b032-a355e23e866c",
   "metadata": {},
   "source": [
    "### API sources"
   ]
  },
  {
   "cell_type": "code",
   "execution_count": 72,
   "id": "1f3436ce-88b5-49de-8209-05291c260ac0",
   "metadata": {},
   "outputs": [
    {
     "name": "stdout",
     "output_type": "stream",
     "text": [
      "Authentication successful\n",
      "RcUZjhdsYLRzwi4\n",
      "Volume data retrieved successfully\n",
      "2000\n",
      "<class 'dict'>\n"
     ]
    }
   ],
   "source": [
    "import requests\n",
    "\n",
    "def get_api(endpoint_url):\n",
    "    try:\n",
    "        # Make the GET request to the mock API\n",
    "        response = requests.get(endpoint_url)\n",
    "\n",
    "        if response.status_code == 200:\n",
    "            data = response.json()\n",
    "            print(data[\"message\"])\n",
    "            return data['data']\n",
    "        else:\n",
    "            print(f\"Failed to retrieve volume data. Status code: {response.status_code}\")\n",
    "    \n",
    "    except Exception as e:\n",
    "        print(f\"An error occurred: {e}\")\n",
    "        \n",
    "password = get_api(\"https://www.raphaelcousin.com/api/exercise/auth\")[\"password\"]\n",
    "print(password)\n",
    "prices = get_api(f\"https://www.raphaelcousin.com/api/exercise/{password}/prices\")\n",
    "print(len(prices))\n",
    "print(type(prices))"
   ]
  },
  {
   "cell_type": "code",
   "execution_count": 73,
   "id": "ea5a0066-38cc-46ce-8bcb-ab70c2ac8bed",
   "metadata": {
    "scrolled": true
   },
   "outputs": [
    {
     "name": "stdout",
     "output_type": "stream",
     "text": [
      "2000\n",
      "       price\n",
      "P0001  22.14\n",
      "P0002  26.91\n",
      "P0003  16.90\n",
      "P0004   7.04\n",
      "P0005  20.84\n"
     ]
    }
   ],
   "source": [
    "# df_prices = \n",
    "df_prices = pd.DataFrame.from_dict(prices, orient=\"index\", columns=[\"price\"])\n",
    "print(len(df_prices))\n",
    "print(df_prices.head())"
   ]
  },
  {
   "cell_type": "markdown",
   "id": "4c0880c2-2338-4e43-a04c-fdaf90275592",
   "metadata": {},
   "source": [
    "#### Aggregate"
   ]
  },
  {
   "cell_type": "code",
   "execution_count": 74,
   "id": "7dc3484b-5ebc-4769-9889-90253a05d44c",
   "metadata": {},
   "outputs": [
    {
     "name": "stdout",
     "output_type": "stream",
     "text": [
      "(1591, 11)\n",
      "          store_name  mass  dimension_length  dimension_width  \\\n",
      "item_code                                                       \n",
      "P0019       CityMart  2.81             26.83            38.75   \n",
      "P0024       CityMart  3.30             59.23            34.99   \n",
      "P0025       CityMart  2.34             22.60            16.90   \n",
      "P0034       CityMart  6.54             18.59            68.72   \n",
      "P0039       CityMart  9.94             57.89            88.33   \n",
      "\n",
      "           dimension_height  days_since_last_purchase  package_volume  \\\n",
      "item_code                                                               \n",
      "P0019                 24.89                     323.0    25877.199625   \n",
      "P0024                 21.78                     321.0    45138.128706   \n",
      "P0025                 60.12                     291.0    22962.232800   \n",
      "P0034                 21.99                     126.0    28092.330552   \n",
      "P0039                 35.45                     312.0   181270.870165   \n",
      "\n",
      "           stock_age  quantity_sold last_modified  price  \n",
      "item_code                                                 \n",
      "P0019          253.0            202    2023-01-19  17.86  \n",
      "P0024           21.0            225    2023-01-24  14.04  \n",
      "P0025          316.0            278    2023-01-25   3.38  \n",
      "P0034          612.0            233    2023-02-03  15.11  \n",
      "P0039          968.0            203    2023-02-08  14.20  \n"
     ]
    }
   ],
   "source": [
    "data = pd.merge(df_vertical, df_prices, left_index=True, right_index=True, how='left')\n",
    "print(data.shape)\n",
    "print(data.head())"
   ]
  },
  {
   "cell_type": "code",
   "execution_count": 75,
   "id": "ceb325b3-06f6-4c01-965e-08a833ed7c49",
   "metadata": {},
   "outputs": [
    {
     "data": {
      "text/plain": [
       "np.float64(44.454488170296564)"
      ]
     },
     "execution_count": 75,
     "metadata": {},
     "output_type": "execute_result"
    }
   ],
   "source": [
    "# get_simple_baseline(data, fillna_value=-1, drop_cols=['store_name', 'last_modified'], k_fold=5, scaler='standard', model='linear', metric='mae', target_col='quantity_sold')\n",
    "get_simple_baseline(data, fillna_value=-1, drop_cols=['store_name', 'last_modified'], k_fold=5, scaler='standard', model='linear', metric='mae', target_col='quantity_sold')"
   ]
  },
  {
   "cell_type": "markdown",
   "id": "2500a918-74a0-44eb-8a95-ec35cd3617ae",
   "metadata": {},
   "source": [
    "### Scrapping sources"
   ]
  },
  {
   "cell_type": "code",
   "execution_count": 76,
   "id": "f8f373c5-452d-408c-a9a4-5e905b361175",
   "metadata": {},
   "outputs": [
    {
     "name": "stdout",
     "output_type": "stream",
     "text": [
      "  Item Code Customer Score Total Reviews\n",
      "0     P0001              2           972\n",
      "1     P0002              3           260\n",
      "2     P0003              2           285\n",
      "3     P0004              5           512\n",
      "4     P0005              3            85\n",
      "          customer score total reviews\n",
      "item code                             \n",
      "P0001                  2           972\n",
      "P0002                  3           260\n",
      "P0003                  2           285\n",
      "P0004                  5           512\n",
      "P0005                  3            85\n"
     ]
    }
   ],
   "source": [
    "from selenium import webdriver\n",
    "from bs4 import BeautifulSoup\n",
    "import pandas as pd\n",
    "import time\n",
    "\n",
    "# Set up the Selenium WebDriver (e.g., Chrome)\n",
    "driver = webdriver.Chrome()  # Make sure ChromeDriver is installed\n",
    "# driver = webdriver.Firefox()\n",
    "# driver = webdriver.Edge()\n",
    "# driver = webdriver.Safari()\n",
    "\n",
    "# Open the URL\n",
    "url = 'https://www.raphaelcousin.com/module4/scrapable-data'\n",
    "driver.get(url)\n",
    "\n",
    "# Wait for the page to fully load (increase time if needed)\n",
    "time.sleep(5)\n",
    "\n",
    "# Get the fully rendered page source\n",
    "html = driver.page_source\n",
    "\n",
    "# Parse the HTML with BeautifulSoup\n",
    "soup = BeautifulSoup(html, 'html.parser')\n",
    "\n",
    "# Initialize lists to store scraped data\n",
    "exercise_data = []\n",
    "\n",
    "# Find both tables\n",
    "tables = soup.find_all('table')\n",
    "\n",
    "# Close the Selenium WebDriver\n",
    "driver.quit()\n",
    "\n",
    "# Scrape the second table (Exercise Data)\n",
    "course_table = tables[1]\n",
    "for row in course_table.find('tbody').find_all('tr'):\n",
    "    cols = row.find_all('td')\n",
    "    exercise_data.append({ \n",
    "        'Item Code': cols[0].text,\n",
    "        'Customer Score': cols[1].text,\n",
    "        'Total Reviews': cols[2].text,\n",
    "                            })\n",
    "\n",
    "# Convert the lists to pandas DataFrames\n",
    "df_exercise = pd.DataFrame(exercise_data)\n",
    "print(df_exercise.head())\n",
    "\n",
    "# On mets les noms des colonnes en minuscule\n",
    "df_exercise.columns = df_exercise.columns.str.lower()\n",
    "# Fixe item code comme index\n",
    "df_exercise = df_exercise.set_index(\"item code\")\n",
    "print(df_exercise.head())\n"
   ]
  },
  {
   "cell_type": "markdown",
   "id": "7666fdbc-4735-4758-a3fe-8a1c87eff295",
   "metadata": {},
   "source": [
    "#### Aggregate"
   ]
  },
  {
   "cell_type": "code",
   "execution_count": 77,
   "id": "20d8a96a-aad2-4103-92b8-8635987bfa2c",
   "metadata": {},
   "outputs": [
    {
     "name": "stdout",
     "output_type": "stream",
     "text": [
      "(1591, 13)\n",
      "          store_name  mass  dimension_length  dimension_width  \\\n",
      "item_code                                                       \n",
      "P0019       CityMart  2.81             26.83            38.75   \n",
      "P0024       CityMart  3.30             59.23            34.99   \n",
      "P0025       CityMart  2.34             22.60            16.90   \n",
      "P0034       CityMart  6.54             18.59            68.72   \n",
      "P0039       CityMart  9.94             57.89            88.33   \n",
      "\n",
      "           dimension_height  days_since_last_purchase  package_volume  \\\n",
      "item_code                                                               \n",
      "P0019                 24.89                     323.0    25877.199625   \n",
      "P0024                 21.78                     321.0    45138.128706   \n",
      "P0025                 60.12                     291.0    22962.232800   \n",
      "P0034                 21.99                     126.0    28092.330552   \n",
      "P0039                 35.45                     312.0   181270.870165   \n",
      "\n",
      "           stock_age  quantity_sold last_modified  price customer score  \\\n",
      "item_code                                                                 \n",
      "P0019          253.0            202    2023-01-19  17.86              1   \n",
      "P0024           21.0            225    2023-01-24  14.04              3   \n",
      "P0025          316.0            278    2023-01-25   3.38              5   \n",
      "P0034          612.0            233    2023-02-03  15.11              2   \n",
      "P0039          968.0            203    2023-02-08  14.20              2   \n",
      "\n",
      "          total reviews  \n",
      "item_code                \n",
      "P0019               948  \n",
      "P0024               436  \n",
      "P0025               703  \n",
      "P0034               935  \n",
      "P0039               188  \n"
     ]
    }
   ],
   "source": [
    "data = pd.merge(data, df_exercise, left_index=True, right_index=True, how='left')\n",
    "print(data.shape)\n",
    "print(data.head())"
   ]
  },
  {
   "cell_type": "code",
   "execution_count": 78,
   "id": "d8ab523c-53e6-43f7-8602-55bb32592305",
   "metadata": {},
   "outputs": [
    {
     "data": {
      "text/plain": [
       "np.float64(40.91896306914744)"
      ]
     },
     "execution_count": 78,
     "metadata": {},
     "output_type": "execute_result"
    }
   ],
   "source": [
    "get_simple_baseline(data, fillna_value=-1, drop_cols=['store_name', 'last_modified'], k_fold=5, scaler='standard', model='linear', metric='mae', target_col='quantity_sold')"
   ]
  },
  {
   "cell_type": "markdown",
   "id": "f0796b24",
   "metadata": {},
   "source": [
    "## Data Pre-Processing"
   ]
  },
  {
   "cell_type": "code",
   "execution_count": 79,
   "id": "cfaef542",
   "metadata": {},
   "outputs": [
    {
     "name": "stdout",
     "output_type": "stream",
     "text": [
      "Number of rows with at least one missing value: 388\n",
      "Proportion of rows with missing values in the dataset: 24.39\n"
     ]
    }
   ],
   "source": [
    "# Find out if there is at least one missing value \n",
    "null = data.isnull().values\n",
    "if null.any() >=1 :\n",
    "    count = len(data[data.isnull().any(axis=1)])\n",
    "    print(f\"Number of rows with at least one missing value: {count}\")\n",
    "    proportion = count / len(data) * 100\n",
    "    print(f\"Proportion of rows with missing values in the dataset: {np.round(proportion,2)}\")\n",
    "\n",
    "# On remplace les valeurs manquantes des variables numériques par la médiane\n",
    "data2=data.fillna(data.median(numeric_only=True))\n"
   ]
  },
  {
   "cell_type": "code",
   "execution_count": 80,
   "id": "ed7bce93",
   "metadata": {},
   "outputs": [
    {
     "data": {
      "text/plain": [
       "np.float64(40.861081461478406)"
      ]
     },
     "execution_count": 80,
     "metadata": {},
     "output_type": "execute_result"
    }
   ],
   "source": [
    "get_simple_baseline(data2, fillna_value=-1, drop_cols=['store_name', 'last_modified'], k_fold=5, scaler='standard', model='linear', metric='mae', target_col='quantity_sold')"
   ]
  },
  {
   "cell_type": "code",
   "execution_count": 81,
   "id": "c42f102c",
   "metadata": {},
   "outputs": [
    {
     "data": {
      "text/plain": [
       "np.float64(40.861081461478406)"
      ]
     },
     "execution_count": 81,
     "metadata": {},
     "output_type": "execute_result"
    }
   ],
   "source": [
    "# On change la manière de traiter les valeurs manquantes\n",
    "get_simple_baseline(data, fillna_value=data.median(numeric_only=True), drop_cols=['store_name', 'last_modified'], k_fold=5, scaler='standard', model='linear', metric='mae', target_col='quantity_sold')"
   ]
  },
  {
   "cell_type": "code",
   "execution_count": 82,
   "id": "8ad1b66a",
   "metadata": {},
   "outputs": [
    {
     "data": {
      "text/plain": [
       "np.float64(40.81888740766508)"
      ]
     },
     "execution_count": 82,
     "metadata": {},
     "output_type": "execute_result"
    }
   ],
   "source": [
    "# On diminue le nombre de folds (5 -> 3)\n",
    "get_simple_baseline(data, fillna_value=data.median(numeric_only=True), drop_cols=['store_name', 'last_modified'], k_fold=3, scaler='standard', model='linear', metric='mae', target_col='quantity_sold')"
   ]
  },
  {
   "cell_type": "markdown",
   "id": "032415ae-f5d6-4689-9835-44124fa4afa2",
   "metadata": {},
   "source": [
    "### Generating Submission File"
   ]
  },
  {
   "cell_type": "code",
   "execution_count": 83,
   "id": "51ebcf1c-dd7a-4dbd-8b74-326c45c81872",
   "metadata": {},
   "outputs": [
    {
     "data": {
      "text/html": [
       "<div>\n",
       "<style scoped>\n",
       "    .dataframe tbody tr th:only-of-type {\n",
       "        vertical-align: middle;\n",
       "    }\n",
       "\n",
       "    .dataframe tbody tr th {\n",
       "        vertical-align: top;\n",
       "    }\n",
       "\n",
       "    .dataframe thead th {\n",
       "        text-align: right;\n",
       "    }\n",
       "</style>\n",
       "<table border=\"1\" class=\"dataframe\">\n",
       "  <thead>\n",
       "    <tr style=\"text-align: right;\">\n",
       "      <th></th>\n",
       "      <th>store_name</th>\n",
       "      <th>mass</th>\n",
       "      <th>dimension_length</th>\n",
       "      <th>dimension_width</th>\n",
       "      <th>dimension_height</th>\n",
       "      <th>days_since_last_purchase</th>\n",
       "      <th>package_volume</th>\n",
       "      <th>stock_age</th>\n",
       "      <th>last_modified</th>\n",
       "    </tr>\n",
       "    <tr>\n",
       "      <th>item_code</th>\n",
       "      <th></th>\n",
       "      <th></th>\n",
       "      <th></th>\n",
       "      <th></th>\n",
       "      <th></th>\n",
       "      <th></th>\n",
       "      <th></th>\n",
       "      <th></th>\n",
       "      <th></th>\n",
       "    </tr>\n",
       "  </thead>\n",
       "  <tbody>\n",
       "    <tr>\n",
       "      <th>P0002</th>\n",
       "      <td>Neighborhood_Market</td>\n",
       "      <td>5.51</td>\n",
       "      <td>51.79</td>\n",
       "      <td>46.72</td>\n",
       "      <td>72.02</td>\n",
       "      <td>344</td>\n",
       "      <td>174261.666176</td>\n",
       "      <td>287</td>\n",
       "      <td>2023-01-02</td>\n",
       "    </tr>\n",
       "    <tr>\n",
       "      <th>P0004</th>\n",
       "      <td>Neighborhood_Market</td>\n",
       "      <td>3.97</td>\n",
       "      <td>84.63</td>\n",
       "      <td>39.42</td>\n",
       "      <td>42.46</td>\n",
       "      <td>189</td>\n",
       "      <td>141651.425916</td>\n",
       "      <td>387</td>\n",
       "      <td>2023-01-04</td>\n",
       "    </tr>\n",
       "    <tr>\n",
       "      <th>P0005</th>\n",
       "      <td>Neighborhood_Market</td>\n",
       "      <td>5.99</td>\n",
       "      <td>39.33</td>\n",
       "      <td>83.51</td>\n",
       "      <td>5.12</td>\n",
       "      <td>183</td>\n",
       "      <td>16816.375296</td>\n",
       "      <td>382</td>\n",
       "      <td>2023-01-05</td>\n",
       "    </tr>\n",
       "    <tr>\n",
       "      <th>P0010</th>\n",
       "      <td>Neighborhood_Market</td>\n",
       "      <td>4.10</td>\n",
       "      <td>77.43</td>\n",
       "      <td>49.56</td>\n",
       "      <td>74.41</td>\n",
       "      <td>208</td>\n",
       "      <td>285543.225828</td>\n",
       "      <td>656</td>\n",
       "      <td>2023-01-10</td>\n",
       "    </tr>\n",
       "    <tr>\n",
       "      <th>P0013</th>\n",
       "      <td>Neighborhood_Market</td>\n",
       "      <td>6.96</td>\n",
       "      <td>95.39</td>\n",
       "      <td>34.61</td>\n",
       "      <td>23.24</td>\n",
       "      <td>114</td>\n",
       "      <td>76725.649196</td>\n",
       "      <td>755</td>\n",
       "      <td>2023-01-13</td>\n",
       "    </tr>\n",
       "    <tr>\n",
       "      <th>...</th>\n",
       "      <td>...</td>\n",
       "      <td>...</td>\n",
       "      <td>...</td>\n",
       "      <td>...</td>\n",
       "      <td>...</td>\n",
       "      <td>...</td>\n",
       "      <td>...</td>\n",
       "      <td>...</td>\n",
       "      <td>...</td>\n",
       "    </tr>\n",
       "    <tr>\n",
       "      <th>P1972</th>\n",
       "      <td>Neighborhood_Market</td>\n",
       "      <td>5.68</td>\n",
       "      <td>17.89</td>\n",
       "      <td>71.87</td>\n",
       "      <td>95.67</td>\n",
       "      <td>296</td>\n",
       "      <td>123008.113881</td>\n",
       "      <td>411</td>\n",
       "      <td>2028-05-25</td>\n",
       "    </tr>\n",
       "    <tr>\n",
       "      <th>P1977</th>\n",
       "      <td>Neighborhood_Market</td>\n",
       "      <td>1.53</td>\n",
       "      <td>84.32</td>\n",
       "      <td>64.91</td>\n",
       "      <td>66.30</td>\n",
       "      <td>171</td>\n",
       "      <td>362873.902560</td>\n",
       "      <td>702</td>\n",
       "      <td>2028-05-30</td>\n",
       "    </tr>\n",
       "    <tr>\n",
       "      <th>P1991</th>\n",
       "      <td>Neighborhood_Market</td>\n",
       "      <td>7.79</td>\n",
       "      <td>84.46</td>\n",
       "      <td>82.96</td>\n",
       "      <td>52.14</td>\n",
       "      <td>50</td>\n",
       "      <td>365334.635424</td>\n",
       "      <td>190</td>\n",
       "      <td>2028-06-13</td>\n",
       "    </tr>\n",
       "    <tr>\n",
       "      <th>P1997</th>\n",
       "      <td>Neighborhood_Market</td>\n",
       "      <td>8.91</td>\n",
       "      <td>66.50</td>\n",
       "      <td>5.79</td>\n",
       "      <td>41.11</td>\n",
       "      <td>336</td>\n",
       "      <td>15828.788850</td>\n",
       "      <td>177</td>\n",
       "      <td>2028-06-19</td>\n",
       "    </tr>\n",
       "    <tr>\n",
       "      <th>P1999</th>\n",
       "      <td>Neighborhood_Market</td>\n",
       "      <td>2.03</td>\n",
       "      <td>66.77</td>\n",
       "      <td>60.18</td>\n",
       "      <td>73.20</td>\n",
       "      <td>190</td>\n",
       "      <td>294133.601520</td>\n",
       "      <td>806</td>\n",
       "      <td>2028-06-21</td>\n",
       "    </tr>\n",
       "  </tbody>\n",
       "</table>\n",
       "<p>409 rows × 9 columns</p>\n",
       "</div>"
      ],
      "text/plain": [
       "                    store_name  mass  dimension_length  dimension_width  \\\n",
       "item_code                                                                 \n",
       "P0002      Neighborhood_Market  5.51             51.79            46.72   \n",
       "P0004      Neighborhood_Market  3.97             84.63            39.42   \n",
       "P0005      Neighborhood_Market  5.99             39.33            83.51   \n",
       "P0010      Neighborhood_Market  4.10             77.43            49.56   \n",
       "P0013      Neighborhood_Market  6.96             95.39            34.61   \n",
       "...                        ...   ...               ...              ...   \n",
       "P1972      Neighborhood_Market  5.68             17.89            71.87   \n",
       "P1977      Neighborhood_Market  1.53             84.32            64.91   \n",
       "P1991      Neighborhood_Market  7.79             84.46            82.96   \n",
       "P1997      Neighborhood_Market  8.91             66.50             5.79   \n",
       "P1999      Neighborhood_Market  2.03             66.77            60.18   \n",
       "\n",
       "           dimension_height  days_since_last_purchase  package_volume  \\\n",
       "item_code                                                               \n",
       "P0002                 72.02                       344   174261.666176   \n",
       "P0004                 42.46                       189   141651.425916   \n",
       "P0005                  5.12                       183    16816.375296   \n",
       "P0010                 74.41                       208   285543.225828   \n",
       "P0013                 23.24                       114    76725.649196   \n",
       "...                     ...                       ...             ...   \n",
       "P1972                 95.67                       296   123008.113881   \n",
       "P1977                 66.30                       171   362873.902560   \n",
       "P1991                 52.14                        50   365334.635424   \n",
       "P1997                 41.11                       336    15828.788850   \n",
       "P1999                 73.20                       190   294133.601520   \n",
       "\n",
       "           stock_age last_modified  \n",
       "item_code                           \n",
       "P0002            287    2023-01-02  \n",
       "P0004            387    2023-01-04  \n",
       "P0005            382    2023-01-05  \n",
       "P0010            656    2023-01-10  \n",
       "P0013            755    2023-01-13  \n",
       "...              ...           ...  \n",
       "P1972            411    2028-05-25  \n",
       "P1977            702    2028-05-30  \n",
       "P1991            190    2028-06-13  \n",
       "P1997            177    2028-06-19  \n",
       "P1999            806    2028-06-21  \n",
       "\n",
       "[409 rows x 9 columns]"
      ]
     },
     "execution_count": 83,
     "metadata": {},
     "output_type": "execute_result"
    }
   ],
   "source": [
    "# X_test =  read  Neighborhood_Market_data\n",
    "\n",
    "# read\n",
    "df_StoreN =  pd.read_csv(\"Neighborhood_Market_data.csv\", sep=\",\", index_col='item_code')\n",
    "df_StoreN"
   ]
  },
  {
   "cell_type": "code",
   "execution_count": 84,
   "id": "dada6c87-c1a3-4cfb-bd1c-326908e94276",
   "metadata": {},
   "outputs": [],
   "source": [
    "df_StoreN = pd.merge(df_StoreN, df_prices, left_index=True, right_index=True, how='left')\n",
    "df_StoreN = pd.merge(df_StoreN, df_exercise, left_index=True, right_index=True, how='left')"
   ]
  },
  {
   "cell_type": "code",
   "execution_count": 85,
   "id": "b8d5c235-2415-42eb-848e-b1fe02800531",
   "metadata": {},
   "outputs": [],
   "source": [
    "m, y_pred = get_simple_baseline(data, fillna_value=data.median(numeric_only=True), drop_cols=['store_name', 'last_modified'], k_fold=3, scaler='standard', model='linear', metric='mae', target_col='quantity_sold', X_data_test = df_StoreN)"
   ]
  },
  {
   "cell_type": "code",
   "execution_count": 86,
   "id": "413101f5",
   "metadata": {},
   "outputs": [
    {
     "name": "stdout",
     "output_type": "stream",
     "text": [
      "mae: 40.81888740766508\n"
     ]
    }
   ],
   "source": [
    "print(f\"mae: {m}\")"
   ]
  },
  {
   "cell_type": "code",
   "execution_count": 87,
   "id": "65d179ac-e982-4a06-931f-8e6fdf24dc7d",
   "metadata": {},
   "outputs": [
    {
     "data": {
      "text/html": [
       "<div>\n",
       "<style scoped>\n",
       "    .dataframe tbody tr th:only-of-type {\n",
       "        vertical-align: middle;\n",
       "    }\n",
       "\n",
       "    .dataframe tbody tr th {\n",
       "        vertical-align: top;\n",
       "    }\n",
       "\n",
       "    .dataframe thead th {\n",
       "        text-align: right;\n",
       "    }\n",
       "</style>\n",
       "<table border=\"1\" class=\"dataframe\">\n",
       "  <thead>\n",
       "    <tr style=\"text-align: right;\">\n",
       "      <th></th>\n",
       "      <th>item_code</th>\n",
       "      <th>quantity_sold</th>\n",
       "    </tr>\n",
       "  </thead>\n",
       "  <tbody>\n",
       "    <tr>\n",
       "      <th>0</th>\n",
       "      <td>P0002</td>\n",
       "      <td>164.462781</td>\n",
       "    </tr>\n",
       "    <tr>\n",
       "      <th>1</th>\n",
       "      <td>P0004</td>\n",
       "      <td>242.834845</td>\n",
       "    </tr>\n",
       "    <tr>\n",
       "      <th>2</th>\n",
       "      <td>P0005</td>\n",
       "      <td>162.354364</td>\n",
       "    </tr>\n",
       "    <tr>\n",
       "      <th>3</th>\n",
       "      <td>P0010</td>\n",
       "      <td>226.819797</td>\n",
       "    </tr>\n",
       "    <tr>\n",
       "      <th>4</th>\n",
       "      <td>P0013</td>\n",
       "      <td>238.926560</td>\n",
       "    </tr>\n",
       "  </tbody>\n",
       "</table>\n",
       "</div>"
      ],
      "text/plain": [
       "  item_code  quantity_sold\n",
       "0     P0002     164.462781\n",
       "1     P0004     242.834845\n",
       "2     P0005     162.354364\n",
       "3     P0010     226.819797\n",
       "4     P0013     238.926560"
      ]
     },
     "execution_count": 87,
     "metadata": {},
     "output_type": "execute_result"
    }
   ],
   "source": [
    "submission = pd.DataFrame({\n",
    "    'item_code': df_StoreN.index,\n",
    "    'quantity_sold': y_pred # your_prediction\n",
    "})\n",
    "\n",
    "submission.to_csv('submission.csv', index=False, sep=',')\n",
    "submission.head()"
   ]
  }
 ],
 "metadata": {
  "kernelspec": {
   "display_name": ".myenv",
   "language": "python",
   "name": "python3"
  },
  "language_info": {
   "codemirror_mode": {
    "name": "ipython",
    "version": 3
   },
   "file_extension": ".py",
   "mimetype": "text/x-python",
   "name": "python",
   "nbconvert_exporter": "python",
   "pygments_lexer": "ipython3",
   "version": "3.13.7"
  }
 },
 "nbformat": 4,
 "nbformat_minor": 5
}
